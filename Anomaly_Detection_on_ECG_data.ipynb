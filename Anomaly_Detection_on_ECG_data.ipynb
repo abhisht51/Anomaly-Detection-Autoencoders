{
  "nbformat": 4,
  "nbformat_minor": 0,
  "metadata": {
    "colab": {
      "name": "Anomaly Detection on ECG data.ipynb",
      "provenance": [],
      "collapsed_sections": []
    },
    "kernelspec": {
      "name": "python3",
      "display_name": "Python 3"
    },
    "accelerator": "GPU"
  },
  "cells": [
    {
      "cell_type": "code",
      "metadata": {
        "id": "EJvuk8rc6fbF"
      },
      "source": [
        "import pandas as pd \n",
        "import matplotlib as mpl \n",
        "import matplotlib.pyplot as plt \n",
        "import tensorflow as tf \n",
        "\n",
        "from tensorflow.keras.models import Model \n",
        "import numpy as np \n",
        "\n",
        "from sklearn.model_selection import train_test_split\n",
        "from sklearn.preprocessing import MinMaxScaler, StandardScaler \n",
        "\n",
        "mpl.rcParams['figure.figsize'] = (10,8)\n",
        "mpl.rcParams['axes.grid'] = False "
      ],
      "execution_count": 1,
      "outputs": []
    },
    {
      "cell_type": "code",
      "metadata": {
        "id": "qY2RwdUT7sfm",
        "colab": {
          "base_uri": "https://localhost:8080/"
        },
        "outputId": "66d497ce-7f0f-40e2-9860-784b09745177"
      },
      "source": [
        "!wget http://www.timeseriesclassification.com/Downloads/ECG5000.zip "
      ],
      "execution_count": 2,
      "outputs": [
        {
          "output_type": "stream",
          "text": [
            "--2020-11-26 19:02:11--  http://www.timeseriesclassification.com/Downloads/ECG5000.zip\n",
            "Resolving www.timeseriesclassification.com (www.timeseriesclassification.com)... 109.123.71.232\n",
            "Connecting to www.timeseriesclassification.com (www.timeseriesclassification.com)|109.123.71.232|:80... connected.\n",
            "HTTP request sent, awaiting response... 200 OK\n",
            "Length: 10614407 (10M) [application/zip]\n",
            "Saving to: ‘ECG5000.zip’\n",
            "\n",
            "ECG5000.zip         100%[===================>]  10.12M  12.6MB/s    in 0.8s    \n",
            "\n",
            "2020-11-26 19:02:12 (12.6 MB/s) - ‘ECG5000.zip’ saved [10614407/10614407]\n",
            "\n"
          ],
          "name": "stdout"
        }
      ]
    },
    {
      "cell_type": "code",
      "metadata": {
        "id": "qDCGaBb-729B",
        "colab": {
          "base_uri": "https://localhost:8080/"
        },
        "outputId": "0f79ed12-ad02-4d4e-90bd-1e7bdfbbf1e7"
      },
      "source": [
        "!unzip ECG5000.zip"
      ],
      "execution_count": 3,
      "outputs": [
        {
          "output_type": "stream",
          "text": [
            "Archive:  ECG5000.zip\n",
            "  inflating: ECG5000.txt             \n",
            "  inflating: ECG5000_TEST.arff       \n",
            "  inflating: ECG5000_TEST.txt        \n",
            "  inflating: ECG5000_TRAIN.arff      \n",
            "  inflating: ECG5000_TRAIN.txt       \n",
            "  inflating: ECG5000_TEST.ts         \n",
            "  inflating: ECG5000_TRAIN.ts        \n"
          ],
          "name": "stdout"
        }
      ]
    },
    {
      "cell_type": "code",
      "metadata": {
        "id": "w2P2HvM_75zK"
      },
      "source": [
        "!cat ECG5000_TRAIN.txt ECG5000_TEST.txt > ecg_final.txt"
      ],
      "execution_count": 4,
      "outputs": []
    },
    {
      "cell_type": "code",
      "metadata": {
        "id": "pT4_an988TF2",
        "colab": {
          "base_uri": "https://localhost:8080/"
        },
        "outputId": "4ebce741-3395-42a6-a88d-de9bebe2347f"
      },
      "source": [
        "df = pd.read_csv('ecg_final.txt',sep='  ', header=None)"
      ],
      "execution_count": 5,
      "outputs": [
        {
          "output_type": "stream",
          "text": [
            "/usr/local/lib/python3.6/dist-packages/ipykernel_launcher.py:1: ParserWarning: Falling back to the 'python' engine because the 'c' engine does not support regex separators (separators > 1 char and different from '\\s+' are interpreted as regex); you can avoid this warning by specifying engine='python'.\n",
            "  \"\"\"Entry point for launching an IPython kernel.\n"
          ],
          "name": "stderr"
        }
      ]
    },
    {
      "cell_type": "code",
      "metadata": {
        "id": "UqruGq2E8WrE",
        "colab": {
          "base_uri": "https://localhost:8080/",
          "height": 439
        },
        "outputId": "5c7dafc5-ddc3-4b81-ac29-3ebb8cca961e"
      },
      "source": [
        "df"
      ],
      "execution_count": 6,
      "outputs": [
        {
          "output_type": "execute_result",
          "data": {
            "text/html": [
              "<div>\n",
              "<style scoped>\n",
              "    .dataframe tbody tr th:only-of-type {\n",
              "        vertical-align: middle;\n",
              "    }\n",
              "\n",
              "    .dataframe tbody tr th {\n",
              "        vertical-align: top;\n",
              "    }\n",
              "\n",
              "    .dataframe thead th {\n",
              "        text-align: right;\n",
              "    }\n",
              "</style>\n",
              "<table border=\"1\" class=\"dataframe\">\n",
              "  <thead>\n",
              "    <tr style=\"text-align: right;\">\n",
              "      <th></th>\n",
              "      <th>0</th>\n",
              "      <th>1</th>\n",
              "      <th>2</th>\n",
              "      <th>3</th>\n",
              "      <th>4</th>\n",
              "      <th>5</th>\n",
              "      <th>6</th>\n",
              "      <th>7</th>\n",
              "      <th>8</th>\n",
              "      <th>9</th>\n",
              "      <th>10</th>\n",
              "      <th>11</th>\n",
              "      <th>12</th>\n",
              "      <th>13</th>\n",
              "      <th>14</th>\n",
              "      <th>15</th>\n",
              "      <th>16</th>\n",
              "      <th>17</th>\n",
              "      <th>18</th>\n",
              "      <th>19</th>\n",
              "      <th>20</th>\n",
              "      <th>21</th>\n",
              "      <th>22</th>\n",
              "      <th>23</th>\n",
              "      <th>24</th>\n",
              "      <th>25</th>\n",
              "      <th>26</th>\n",
              "      <th>27</th>\n",
              "      <th>28</th>\n",
              "      <th>29</th>\n",
              "      <th>30</th>\n",
              "      <th>31</th>\n",
              "      <th>32</th>\n",
              "      <th>33</th>\n",
              "      <th>34</th>\n",
              "      <th>35</th>\n",
              "      <th>36</th>\n",
              "      <th>37</th>\n",
              "      <th>38</th>\n",
              "      <th>39</th>\n",
              "      <th>...</th>\n",
              "      <th>101</th>\n",
              "      <th>102</th>\n",
              "      <th>103</th>\n",
              "      <th>104</th>\n",
              "      <th>105</th>\n",
              "      <th>106</th>\n",
              "      <th>107</th>\n",
              "      <th>108</th>\n",
              "      <th>109</th>\n",
              "      <th>110</th>\n",
              "      <th>111</th>\n",
              "      <th>112</th>\n",
              "      <th>113</th>\n",
              "      <th>114</th>\n",
              "      <th>115</th>\n",
              "      <th>116</th>\n",
              "      <th>117</th>\n",
              "      <th>118</th>\n",
              "      <th>119</th>\n",
              "      <th>120</th>\n",
              "      <th>121</th>\n",
              "      <th>122</th>\n",
              "      <th>123</th>\n",
              "      <th>124</th>\n",
              "      <th>125</th>\n",
              "      <th>126</th>\n",
              "      <th>127</th>\n",
              "      <th>128</th>\n",
              "      <th>129</th>\n",
              "      <th>130</th>\n",
              "      <th>131</th>\n",
              "      <th>132</th>\n",
              "      <th>133</th>\n",
              "      <th>134</th>\n",
              "      <th>135</th>\n",
              "      <th>136</th>\n",
              "      <th>137</th>\n",
              "      <th>138</th>\n",
              "      <th>139</th>\n",
              "      <th>140</th>\n",
              "    </tr>\n",
              "  </thead>\n",
              "  <tbody>\n",
              "    <tr>\n",
              "      <th>0</th>\n",
              "      <td>1.0</td>\n",
              "      <td>-0.112522</td>\n",
              "      <td>-2.827204</td>\n",
              "      <td>-3.773897</td>\n",
              "      <td>-4.349751</td>\n",
              "      <td>-4.376041</td>\n",
              "      <td>-3.474986</td>\n",
              "      <td>-2.181408</td>\n",
              "      <td>-1.818287</td>\n",
              "      <td>-1.250522</td>\n",
              "      <td>-0.477492</td>\n",
              "      <td>-0.363808</td>\n",
              "      <td>-0.491957</td>\n",
              "      <td>-0.421855</td>\n",
              "      <td>-0.309201</td>\n",
              "      <td>-0.495939</td>\n",
              "      <td>-0.342119</td>\n",
              "      <td>-0.355336</td>\n",
              "      <td>-0.367913</td>\n",
              "      <td>-0.316503</td>\n",
              "      <td>-0.412374</td>\n",
              "      <td>-0.471672</td>\n",
              "      <td>-0.413458</td>\n",
              "      <td>-0.364617</td>\n",
              "      <td>-0.449298</td>\n",
              "      <td>-0.471419</td>\n",
              "      <td>-0.424777</td>\n",
              "      <td>-0.462517</td>\n",
              "      <td>-0.552472</td>\n",
              "      <td>-0.475375</td>\n",
              "      <td>-0.694200</td>\n",
              "      <td>-0.701868</td>\n",
              "      <td>-0.593812</td>\n",
              "      <td>-0.660684</td>\n",
              "      <td>-0.713831</td>\n",
              "      <td>-0.769807</td>\n",
              "      <td>-0.672282</td>\n",
              "      <td>-0.653676</td>\n",
              "      <td>-0.639406</td>\n",
              "      <td>-0.559302</td>\n",
              "      <td>...</td>\n",
              "      <td>1.173345</td>\n",
              "      <td>1.258179</td>\n",
              "      <td>1.433789</td>\n",
              "      <td>1.700533</td>\n",
              "      <td>1.999043</td>\n",
              "      <td>2.125341</td>\n",
              "      <td>1.993291</td>\n",
              "      <td>1.932246</td>\n",
              "      <td>1.797437</td>\n",
              "      <td>1.522284</td>\n",
              "      <td>1.251168</td>\n",
              "      <td>0.998730</td>\n",
              "      <td>0.483722</td>\n",
              "      <td>0.023132</td>\n",
              "      <td>-0.194914</td>\n",
              "      <td>-0.220917</td>\n",
              "      <td>-0.243737</td>\n",
              "      <td>-0.254695</td>\n",
              "      <td>-0.291136</td>\n",
              "      <td>-0.256490</td>\n",
              "      <td>-0.227874</td>\n",
              "      <td>-0.322423</td>\n",
              "      <td>-0.289286</td>\n",
              "      <td>-0.318170</td>\n",
              "      <td>-0.363654</td>\n",
              "      <td>-0.393456</td>\n",
              "      <td>-0.266419</td>\n",
              "      <td>-0.256823</td>\n",
              "      <td>-0.288694</td>\n",
              "      <td>-0.162338</td>\n",
              "      <td>0.160348</td>\n",
              "      <td>0.792168</td>\n",
              "      <td>0.933541</td>\n",
              "      <td>0.796958</td>\n",
              "      <td>0.578621</td>\n",
              "      <td>0.257740</td>\n",
              "      <td>0.228077</td>\n",
              "      <td>0.123431</td>\n",
              "      <td>0.925286</td>\n",
              "      <td>0.193137</td>\n",
              "    </tr>\n",
              "    <tr>\n",
              "      <th>1</th>\n",
              "      <td>1.0</td>\n",
              "      <td>-1.100878</td>\n",
              "      <td>-3.996840</td>\n",
              "      <td>-4.285843</td>\n",
              "      <td>-4.506579</td>\n",
              "      <td>-4.022377</td>\n",
              "      <td>-3.234368</td>\n",
              "      <td>-1.566126</td>\n",
              "      <td>-0.992258</td>\n",
              "      <td>-0.754680</td>\n",
              "      <td>0.042321</td>\n",
              "      <td>0.148951</td>\n",
              "      <td>0.183527</td>\n",
              "      <td>0.294876</td>\n",
              "      <td>0.190233</td>\n",
              "      <td>0.235575</td>\n",
              "      <td>0.253487</td>\n",
              "      <td>0.221742</td>\n",
              "      <td>0.050233</td>\n",
              "      <td>0.178042</td>\n",
              "      <td>0.139563</td>\n",
              "      <td>0.046794</td>\n",
              "      <td>0.043007</td>\n",
              "      <td>0.106544</td>\n",
              "      <td>0.012654</td>\n",
              "      <td>0.003995</td>\n",
              "      <td>0.045724</td>\n",
              "      <td>-0.045999</td>\n",
              "      <td>-0.072667</td>\n",
              "      <td>-0.071078</td>\n",
              "      <td>-0.153866</td>\n",
              "      <td>-0.227254</td>\n",
              "      <td>-0.249270</td>\n",
              "      <td>-0.253489</td>\n",
              "      <td>-0.332835</td>\n",
              "      <td>-0.264330</td>\n",
              "      <td>-0.345825</td>\n",
              "      <td>-0.310781</td>\n",
              "      <td>-0.334160</td>\n",
              "      <td>-0.306178</td>\n",
              "      <td>...</td>\n",
              "      <td>1.557410</td>\n",
              "      <td>1.808428</td>\n",
              "      <td>2.164346</td>\n",
              "      <td>2.070747</td>\n",
              "      <td>1.903614</td>\n",
              "      <td>1.764455</td>\n",
              "      <td>1.507769</td>\n",
              "      <td>1.293428</td>\n",
              "      <td>0.894562</td>\n",
              "      <td>0.578016</td>\n",
              "      <td>0.244343</td>\n",
              "      <td>-0.286443</td>\n",
              "      <td>-0.515881</td>\n",
              "      <td>-0.732707</td>\n",
              "      <td>-0.832465</td>\n",
              "      <td>-0.803318</td>\n",
              "      <td>-0.836252</td>\n",
              "      <td>-0.777865</td>\n",
              "      <td>-0.774753</td>\n",
              "      <td>-0.733404</td>\n",
              "      <td>-0.721386</td>\n",
              "      <td>-0.832095</td>\n",
              "      <td>-0.711982</td>\n",
              "      <td>-0.751867</td>\n",
              "      <td>-0.757720</td>\n",
              "      <td>-0.853120</td>\n",
              "      <td>-0.766988</td>\n",
              "      <td>-0.688161</td>\n",
              "      <td>-0.519923</td>\n",
              "      <td>0.039406</td>\n",
              "      <td>0.560327</td>\n",
              "      <td>0.538356</td>\n",
              "      <td>0.656881</td>\n",
              "      <td>0.787490</td>\n",
              "      <td>0.724046</td>\n",
              "      <td>0.555784</td>\n",
              "      <td>0.476333</td>\n",
              "      <td>0.773820</td>\n",
              "      <td>1.119621</td>\n",
              "      <td>-1.436250</td>\n",
              "    </tr>\n",
              "    <tr>\n",
              "      <th>2</th>\n",
              "      <td>1.0</td>\n",
              "      <td>-0.567088</td>\n",
              "      <td>-2.593450</td>\n",
              "      <td>-3.874230</td>\n",
              "      <td>-4.584095</td>\n",
              "      <td>-4.187449</td>\n",
              "      <td>-3.151462</td>\n",
              "      <td>-1.742940</td>\n",
              "      <td>-1.490658</td>\n",
              "      <td>-1.183580</td>\n",
              "      <td>-0.394229</td>\n",
              "      <td>-0.282897</td>\n",
              "      <td>-0.356926</td>\n",
              "      <td>-0.287297</td>\n",
              "      <td>-0.399489</td>\n",
              "      <td>-0.473244</td>\n",
              "      <td>-0.379048</td>\n",
              "      <td>-0.399039</td>\n",
              "      <td>-0.178594</td>\n",
              "      <td>-0.339522</td>\n",
              "      <td>-0.498447</td>\n",
              "      <td>-0.337251</td>\n",
              "      <td>-0.425480</td>\n",
              "      <td>-0.423952</td>\n",
              "      <td>-0.463170</td>\n",
              "      <td>-0.493253</td>\n",
              "      <td>-0.549749</td>\n",
              "      <td>-0.529831</td>\n",
              "      <td>-0.530935</td>\n",
              "      <td>-0.502365</td>\n",
              "      <td>-0.417368</td>\n",
              "      <td>-0.526346</td>\n",
              "      <td>-0.471005</td>\n",
              "      <td>-0.676784</td>\n",
              "      <td>-0.898612</td>\n",
              "      <td>-0.610571</td>\n",
              "      <td>-0.530164</td>\n",
              "      <td>-0.765674</td>\n",
              "      <td>-0.581937</td>\n",
              "      <td>-0.537848</td>\n",
              "      <td>...</td>\n",
              "      <td>1.640105</td>\n",
              "      <td>1.810988</td>\n",
              "      <td>2.185398</td>\n",
              "      <td>2.262985</td>\n",
              "      <td>2.052920</td>\n",
              "      <td>1.890488</td>\n",
              "      <td>1.793033</td>\n",
              "      <td>1.564784</td>\n",
              "      <td>1.234619</td>\n",
              "      <td>0.900302</td>\n",
              "      <td>0.551957</td>\n",
              "      <td>0.258222</td>\n",
              "      <td>-0.128587</td>\n",
              "      <td>-0.092585</td>\n",
              "      <td>-0.168606</td>\n",
              "      <td>-0.495989</td>\n",
              "      <td>-0.395034</td>\n",
              "      <td>-0.328238</td>\n",
              "      <td>-0.448138</td>\n",
              "      <td>-0.268230</td>\n",
              "      <td>-0.456415</td>\n",
              "      <td>-0.357867</td>\n",
              "      <td>-0.317508</td>\n",
              "      <td>-0.434112</td>\n",
              "      <td>-0.549203</td>\n",
              "      <td>-0.324615</td>\n",
              "      <td>-0.268082</td>\n",
              "      <td>-0.220384</td>\n",
              "      <td>-0.117429</td>\n",
              "      <td>0.614059</td>\n",
              "      <td>1.284825</td>\n",
              "      <td>0.886073</td>\n",
              "      <td>0.531452</td>\n",
              "      <td>0.311377</td>\n",
              "      <td>-0.021919</td>\n",
              "      <td>-0.713683</td>\n",
              "      <td>-0.532197</td>\n",
              "      <td>0.321097</td>\n",
              "      <td>0.904227</td>\n",
              "      <td>-0.421797</td>\n",
              "    </tr>\n",
              "    <tr>\n",
              "      <th>3</th>\n",
              "      <td>1.0</td>\n",
              "      <td>0.490473</td>\n",
              "      <td>-1.914407</td>\n",
              "      <td>-3.616364</td>\n",
              "      <td>-4.318823</td>\n",
              "      <td>-4.268016</td>\n",
              "      <td>-3.881110</td>\n",
              "      <td>-2.993280</td>\n",
              "      <td>-1.671131</td>\n",
              "      <td>-1.333884</td>\n",
              "      <td>-0.965629</td>\n",
              "      <td>-0.183319</td>\n",
              "      <td>-0.101657</td>\n",
              "      <td>-0.273874</td>\n",
              "      <td>-0.127818</td>\n",
              "      <td>-0.195983</td>\n",
              "      <td>-0.213523</td>\n",
              "      <td>-0.176473</td>\n",
              "      <td>-0.156932</td>\n",
              "      <td>-0.149172</td>\n",
              "      <td>-0.181510</td>\n",
              "      <td>-0.180074</td>\n",
              "      <td>-0.246151</td>\n",
              "      <td>-0.274260</td>\n",
              "      <td>-0.140960</td>\n",
              "      <td>-0.277449</td>\n",
              "      <td>-0.382549</td>\n",
              "      <td>-0.311937</td>\n",
              "      <td>-0.360093</td>\n",
              "      <td>-0.405968</td>\n",
              "      <td>-0.571433</td>\n",
              "      <td>-0.524106</td>\n",
              "      <td>-0.537886</td>\n",
              "      <td>-0.606778</td>\n",
              "      <td>-0.661446</td>\n",
              "      <td>-0.683375</td>\n",
              "      <td>-0.746683</td>\n",
              "      <td>-0.635662</td>\n",
              "      <td>-0.625231</td>\n",
              "      <td>-0.540094</td>\n",
              "      <td>...</td>\n",
              "      <td>1.553079</td>\n",
              "      <td>1.772155</td>\n",
              "      <td>2.000769</td>\n",
              "      <td>1.925003</td>\n",
              "      <td>1.898426</td>\n",
              "      <td>1.720953</td>\n",
              "      <td>1.501711</td>\n",
              "      <td>1.422492</td>\n",
              "      <td>1.023225</td>\n",
              "      <td>0.776341</td>\n",
              "      <td>0.504426</td>\n",
              "      <td>0.056382</td>\n",
              "      <td>-0.233161</td>\n",
              "      <td>-0.406388</td>\n",
              "      <td>-0.327528</td>\n",
              "      <td>-0.460868</td>\n",
              "      <td>-0.402536</td>\n",
              "      <td>-0.345752</td>\n",
              "      <td>-0.354206</td>\n",
              "      <td>-0.439959</td>\n",
              "      <td>-0.425326</td>\n",
              "      <td>-0.439789</td>\n",
              "      <td>-0.451835</td>\n",
              "      <td>-0.395926</td>\n",
              "      <td>-0.448762</td>\n",
              "      <td>-0.391789</td>\n",
              "      <td>-0.376307</td>\n",
              "      <td>-0.461069</td>\n",
              "      <td>-0.253524</td>\n",
              "      <td>0.213006</td>\n",
              "      <td>0.491173</td>\n",
              "      <td>0.350816</td>\n",
              "      <td>0.499111</td>\n",
              "      <td>0.600345</td>\n",
              "      <td>0.842069</td>\n",
              "      <td>0.952074</td>\n",
              "      <td>0.990133</td>\n",
              "      <td>1.086798</td>\n",
              "      <td>1.403011</td>\n",
              "      <td>-0.383564</td>\n",
              "    </tr>\n",
              "    <tr>\n",
              "      <th>4</th>\n",
              "      <td>1.0</td>\n",
              "      <td>0.800232</td>\n",
              "      <td>-0.874252</td>\n",
              "      <td>-2.384761</td>\n",
              "      <td>-3.973292</td>\n",
              "      <td>-4.338224</td>\n",
              "      <td>-3.802422</td>\n",
              "      <td>-2.534510</td>\n",
              "      <td>-1.783423</td>\n",
              "      <td>-1.594450</td>\n",
              "      <td>-0.753199</td>\n",
              "      <td>-0.298107</td>\n",
              "      <td>-0.428928</td>\n",
              "      <td>-0.491351</td>\n",
              "      <td>-0.361304</td>\n",
              "      <td>-0.339296</td>\n",
              "      <td>-0.324952</td>\n",
              "      <td>-0.290113</td>\n",
              "      <td>-0.363051</td>\n",
              "      <td>-0.525684</td>\n",
              "      <td>-0.597423</td>\n",
              "      <td>-0.575523</td>\n",
              "      <td>-0.567503</td>\n",
              "      <td>-0.504555</td>\n",
              "      <td>-0.618406</td>\n",
              "      <td>-0.682814</td>\n",
              "      <td>-0.743849</td>\n",
              "      <td>-0.815588</td>\n",
              "      <td>-0.826902</td>\n",
              "      <td>-0.782374</td>\n",
              "      <td>-0.929462</td>\n",
              "      <td>-0.999672</td>\n",
              "      <td>-1.060969</td>\n",
              "      <td>-1.007877</td>\n",
              "      <td>-1.028735</td>\n",
              "      <td>-1.122629</td>\n",
              "      <td>-1.028650</td>\n",
              "      <td>-1.046515</td>\n",
              "      <td>-1.063372</td>\n",
              "      <td>-1.122423</td>\n",
              "      <td>...</td>\n",
              "      <td>0.982230</td>\n",
              "      <td>1.155363</td>\n",
              "      <td>1.336254</td>\n",
              "      <td>1.627534</td>\n",
              "      <td>1.717594</td>\n",
              "      <td>1.696487</td>\n",
              "      <td>1.741686</td>\n",
              "      <td>1.674078</td>\n",
              "      <td>1.546928</td>\n",
              "      <td>1.331738</td>\n",
              "      <td>1.110168</td>\n",
              "      <td>0.922210</td>\n",
              "      <td>0.521777</td>\n",
              "      <td>0.154852</td>\n",
              "      <td>-0.123861</td>\n",
              "      <td>-0.202998</td>\n",
              "      <td>-0.247956</td>\n",
              "      <td>-0.219122</td>\n",
              "      <td>-0.214695</td>\n",
              "      <td>-0.319215</td>\n",
              "      <td>-0.198597</td>\n",
              "      <td>-0.151618</td>\n",
              "      <td>-0.129593</td>\n",
              "      <td>-0.074939</td>\n",
              "      <td>-0.196807</td>\n",
              "      <td>-0.174795</td>\n",
              "      <td>-0.208833</td>\n",
              "      <td>-0.210754</td>\n",
              "      <td>-0.100485</td>\n",
              "      <td>0.197446</td>\n",
              "      <td>0.966606</td>\n",
              "      <td>1.148884</td>\n",
              "      <td>0.958434</td>\n",
              "      <td>1.059025</td>\n",
              "      <td>1.371682</td>\n",
              "      <td>1.277392</td>\n",
              "      <td>0.960304</td>\n",
              "      <td>0.971020</td>\n",
              "      <td>1.614392</td>\n",
              "      <td>1.421456</td>\n",
              "    </tr>\n",
              "    <tr>\n",
              "      <th>...</th>\n",
              "      <td>...</td>\n",
              "      <td>...</td>\n",
              "      <td>...</td>\n",
              "      <td>...</td>\n",
              "      <td>...</td>\n",
              "      <td>...</td>\n",
              "      <td>...</td>\n",
              "      <td>...</td>\n",
              "      <td>...</td>\n",
              "      <td>...</td>\n",
              "      <td>...</td>\n",
              "      <td>...</td>\n",
              "      <td>...</td>\n",
              "      <td>...</td>\n",
              "      <td>...</td>\n",
              "      <td>...</td>\n",
              "      <td>...</td>\n",
              "      <td>...</td>\n",
              "      <td>...</td>\n",
              "      <td>...</td>\n",
              "      <td>...</td>\n",
              "      <td>...</td>\n",
              "      <td>...</td>\n",
              "      <td>...</td>\n",
              "      <td>...</td>\n",
              "      <td>...</td>\n",
              "      <td>...</td>\n",
              "      <td>...</td>\n",
              "      <td>...</td>\n",
              "      <td>...</td>\n",
              "      <td>...</td>\n",
              "      <td>...</td>\n",
              "      <td>...</td>\n",
              "      <td>...</td>\n",
              "      <td>...</td>\n",
              "      <td>...</td>\n",
              "      <td>...</td>\n",
              "      <td>...</td>\n",
              "      <td>...</td>\n",
              "      <td>...</td>\n",
              "      <td>...</td>\n",
              "      <td>...</td>\n",
              "      <td>...</td>\n",
              "      <td>...</td>\n",
              "      <td>...</td>\n",
              "      <td>...</td>\n",
              "      <td>...</td>\n",
              "      <td>...</td>\n",
              "      <td>...</td>\n",
              "      <td>...</td>\n",
              "      <td>...</td>\n",
              "      <td>...</td>\n",
              "      <td>...</td>\n",
              "      <td>...</td>\n",
              "      <td>...</td>\n",
              "      <td>...</td>\n",
              "      <td>...</td>\n",
              "      <td>...</td>\n",
              "      <td>...</td>\n",
              "      <td>...</td>\n",
              "      <td>...</td>\n",
              "      <td>...</td>\n",
              "      <td>...</td>\n",
              "      <td>...</td>\n",
              "      <td>...</td>\n",
              "      <td>...</td>\n",
              "      <td>...</td>\n",
              "      <td>...</td>\n",
              "      <td>...</td>\n",
              "      <td>...</td>\n",
              "      <td>...</td>\n",
              "      <td>...</td>\n",
              "      <td>...</td>\n",
              "      <td>...</td>\n",
              "      <td>...</td>\n",
              "      <td>...</td>\n",
              "      <td>...</td>\n",
              "      <td>...</td>\n",
              "      <td>...</td>\n",
              "      <td>...</td>\n",
              "      <td>...</td>\n",
              "    </tr>\n",
              "    <tr>\n",
              "      <th>4995</th>\n",
              "      <td>4.0</td>\n",
              "      <td>-1.122969</td>\n",
              "      <td>-2.252925</td>\n",
              "      <td>-2.867628</td>\n",
              "      <td>-3.358605</td>\n",
              "      <td>-3.167849</td>\n",
              "      <td>-2.638360</td>\n",
              "      <td>-1.664162</td>\n",
              "      <td>-0.935655</td>\n",
              "      <td>-0.866953</td>\n",
              "      <td>-0.645363</td>\n",
              "      <td>-0.093342</td>\n",
              "      <td>0.099746</td>\n",
              "      <td>0.121585</td>\n",
              "      <td>0.125760</td>\n",
              "      <td>0.071543</td>\n",
              "      <td>0.050503</td>\n",
              "      <td>0.021200</td>\n",
              "      <td>0.026780</td>\n",
              "      <td>0.158262</td>\n",
              "      <td>0.099955</td>\n",
              "      <td>-0.009558</td>\n",
              "      <td>0.078789</td>\n",
              "      <td>0.086691</td>\n",
              "      <td>0.046382</td>\n",
              "      <td>0.068272</td>\n",
              "      <td>0.102911</td>\n",
              "      <td>0.106083</td>\n",
              "      <td>0.057099</td>\n",
              "      <td>0.028555</td>\n",
              "      <td>0.046705</td>\n",
              "      <td>0.046524</td>\n",
              "      <td>0.095233</td>\n",
              "      <td>0.059824</td>\n",
              "      <td>-0.021798</td>\n",
              "      <td>-0.022737</td>\n",
              "      <td>-0.083263</td>\n",
              "      <td>-0.125486</td>\n",
              "      <td>-0.082084</td>\n",
              "      <td>-0.023000</td>\n",
              "      <td>...</td>\n",
              "      <td>0.643776</td>\n",
              "      <td>0.597168</td>\n",
              "      <td>0.625141</td>\n",
              "      <td>0.648181</td>\n",
              "      <td>0.594234</td>\n",
              "      <td>0.630589</td>\n",
              "      <td>0.654510</td>\n",
              "      <td>0.602251</td>\n",
              "      <td>0.656946</td>\n",
              "      <td>0.603251</td>\n",
              "      <td>0.599274</td>\n",
              "      <td>0.561487</td>\n",
              "      <td>0.547185</td>\n",
              "      <td>0.537524</td>\n",
              "      <td>0.603885</td>\n",
              "      <td>0.541677</td>\n",
              "      <td>0.580715</td>\n",
              "      <td>0.689346</td>\n",
              "      <td>0.746181</td>\n",
              "      <td>0.867390</td>\n",
              "      <td>0.783529</td>\n",
              "      <td>0.698720</td>\n",
              "      <td>0.798727</td>\n",
              "      <td>0.875711</td>\n",
              "      <td>0.985118</td>\n",
              "      <td>0.799260</td>\n",
              "      <td>0.577579</td>\n",
              "      <td>0.394182</td>\n",
              "      <td>0.458721</td>\n",
              "      <td>0.411458</td>\n",
              "      <td>0.205543</td>\n",
              "      <td>-0.472419</td>\n",
              "      <td>-1.310147</td>\n",
              "      <td>-2.029521</td>\n",
              "      <td>-3.221294</td>\n",
              "      <td>-4.176790</td>\n",
              "      <td>-4.009720</td>\n",
              "      <td>-2.874136</td>\n",
              "      <td>-2.008369</td>\n",
              "      <td>-1.808334</td>\n",
              "    </tr>\n",
              "    <tr>\n",
              "      <th>4996</th>\n",
              "      <td>2.0</td>\n",
              "      <td>-0.547705</td>\n",
              "      <td>-1.889545</td>\n",
              "      <td>-2.839779</td>\n",
              "      <td>-3.457912</td>\n",
              "      <td>-3.929149</td>\n",
              "      <td>-3.966026</td>\n",
              "      <td>-3.492560</td>\n",
              "      <td>-2.695269</td>\n",
              "      <td>-1.849691</td>\n",
              "      <td>-1.374321</td>\n",
              "      <td>-1.288459</td>\n",
              "      <td>-1.117578</td>\n",
              "      <td>-0.536271</td>\n",
              "      <td>-0.251050</td>\n",
              "      <td>-0.215496</td>\n",
              "      <td>-0.072500</td>\n",
              "      <td>-0.170556</td>\n",
              "      <td>-0.182279</td>\n",
              "      <td>-0.271306</td>\n",
              "      <td>-0.242693</td>\n",
              "      <td>-0.225397</td>\n",
              "      <td>-0.187956</td>\n",
              "      <td>-0.215918</td>\n",
              "      <td>-0.173543</td>\n",
              "      <td>-0.233401</td>\n",
              "      <td>-0.190231</td>\n",
              "      <td>-0.160668</td>\n",
              "      <td>-0.241456</td>\n",
              "      <td>-0.204146</td>\n",
              "      <td>-0.228155</td>\n",
              "      <td>-0.084758</td>\n",
              "      <td>-0.142782</td>\n",
              "      <td>-0.153214</td>\n",
              "      <td>-0.314872</td>\n",
              "      <td>-0.335928</td>\n",
              "      <td>-0.266875</td>\n",
              "      <td>-0.313519</td>\n",
              "      <td>-0.304439</td>\n",
              "      <td>-0.294795</td>\n",
              "      <td>...</td>\n",
              "      <td>0.427870</td>\n",
              "      <td>0.471064</td>\n",
              "      <td>0.532288</td>\n",
              "      <td>0.541352</td>\n",
              "      <td>0.588983</td>\n",
              "      <td>0.753851</td>\n",
              "      <td>0.650792</td>\n",
              "      <td>0.720441</td>\n",
              "      <td>0.752308</td>\n",
              "      <td>0.813847</td>\n",
              "      <td>0.690120</td>\n",
              "      <td>0.685244</td>\n",
              "      <td>0.632990</td>\n",
              "      <td>0.688632</td>\n",
              "      <td>0.676820</td>\n",
              "      <td>0.639733</td>\n",
              "      <td>0.708132</td>\n",
              "      <td>0.675063</td>\n",
              "      <td>0.646640</td>\n",
              "      <td>0.635341</td>\n",
              "      <td>0.670459</td>\n",
              "      <td>0.732434</td>\n",
              "      <td>0.866642</td>\n",
              "      <td>0.845284</td>\n",
              "      <td>1.045767</td>\n",
              "      <td>1.429693</td>\n",
              "      <td>1.783791</td>\n",
              "      <td>1.697750</td>\n",
              "      <td>1.492639</td>\n",
              "      <td>1.378843</td>\n",
              "      <td>1.218185</td>\n",
              "      <td>1.258419</td>\n",
              "      <td>1.907529</td>\n",
              "      <td>2.280888</td>\n",
              "      <td>1.895242</td>\n",
              "      <td>1.437702</td>\n",
              "      <td>1.193433</td>\n",
              "      <td>1.261335</td>\n",
              "      <td>1.150449</td>\n",
              "      <td>0.804932</td>\n",
              "    </tr>\n",
              "    <tr>\n",
              "      <th>4997</th>\n",
              "      <td>2.0</td>\n",
              "      <td>-1.351779</td>\n",
              "      <td>-2.209006</td>\n",
              "      <td>-2.520225</td>\n",
              "      <td>-3.061475</td>\n",
              "      <td>-3.065141</td>\n",
              "      <td>-3.030739</td>\n",
              "      <td>-2.622720</td>\n",
              "      <td>-2.044092</td>\n",
              "      <td>-1.295874</td>\n",
              "      <td>-0.733839</td>\n",
              "      <td>-0.562769</td>\n",
              "      <td>-0.461068</td>\n",
              "      <td>-0.310064</td>\n",
              "      <td>-0.004490</td>\n",
              "      <td>0.184161</td>\n",
              "      <td>0.252896</td>\n",
              "      <td>0.302077</td>\n",
              "      <td>0.237223</td>\n",
              "      <td>0.304171</td>\n",
              "      <td>0.276120</td>\n",
              "      <td>0.330877</td>\n",
              "      <td>0.356674</td>\n",
              "      <td>0.323301</td>\n",
              "      <td>0.413409</td>\n",
              "      <td>0.366606</td>\n",
              "      <td>0.328516</td>\n",
              "      <td>0.358460</td>\n",
              "      <td>0.353359</td>\n",
              "      <td>0.451590</td>\n",
              "      <td>0.419947</td>\n",
              "      <td>0.330580</td>\n",
              "      <td>0.317684</td>\n",
              "      <td>0.270813</td>\n",
              "      <td>0.258002</td>\n",
              "      <td>0.317464</td>\n",
              "      <td>0.358579</td>\n",
              "      <td>0.295808</td>\n",
              "      <td>0.276734</td>\n",
              "      <td>0.230999</td>\n",
              "      <td>...</td>\n",
              "      <td>0.716374</td>\n",
              "      <td>0.802243</td>\n",
              "      <td>0.803918</td>\n",
              "      <td>0.826138</td>\n",
              "      <td>0.774642</td>\n",
              "      <td>0.637822</td>\n",
              "      <td>0.747995</td>\n",
              "      <td>0.762681</td>\n",
              "      <td>0.807652</td>\n",
              "      <td>0.816406</td>\n",
              "      <td>0.818481</td>\n",
              "      <td>0.900709</td>\n",
              "      <td>0.876553</td>\n",
              "      <td>0.861227</td>\n",
              "      <td>0.764280</td>\n",
              "      <td>0.628381</td>\n",
              "      <td>0.485624</td>\n",
              "      <td>0.462129</td>\n",
              "      <td>0.442520</td>\n",
              "      <td>0.402201</td>\n",
              "      <td>0.380095</td>\n",
              "      <td>0.289096</td>\n",
              "      <td>0.214385</td>\n",
              "      <td>0.106227</td>\n",
              "      <td>-0.009595</td>\n",
              "      <td>-0.025391</td>\n",
              "      <td>0.035677</td>\n",
              "      <td>-0.030661</td>\n",
              "      <td>-0.203568</td>\n",
              "      <td>-0.445023</td>\n",
              "      <td>-0.896575</td>\n",
              "      <td>-1.512234</td>\n",
              "      <td>-2.076075</td>\n",
              "      <td>-2.586042</td>\n",
              "      <td>-3.322799</td>\n",
              "      <td>-3.627311</td>\n",
              "      <td>-3.437038</td>\n",
              "      <td>-2.260023</td>\n",
              "      <td>-1.577823</td>\n",
              "      <td>-0.684531</td>\n",
              "    </tr>\n",
              "    <tr>\n",
              "      <th>4998</th>\n",
              "      <td>2.0</td>\n",
              "      <td>-1.124432</td>\n",
              "      <td>-1.905039</td>\n",
              "      <td>-2.192707</td>\n",
              "      <td>-2.904320</td>\n",
              "      <td>-2.900722</td>\n",
              "      <td>-2.761252</td>\n",
              "      <td>-2.569705</td>\n",
              "      <td>-2.043893</td>\n",
              "      <td>-1.490538</td>\n",
              "      <td>-0.938473</td>\n",
              "      <td>-0.485372</td>\n",
              "      <td>-0.374298</td>\n",
              "      <td>-0.389414</td>\n",
              "      <td>-0.146131</td>\n",
              "      <td>0.212746</td>\n",
              "      <td>0.429797</td>\n",
              "      <td>0.499480</td>\n",
              "      <td>0.536705</td>\n",
              "      <td>0.558162</td>\n",
              "      <td>0.543721</td>\n",
              "      <td>0.550670</td>\n",
              "      <td>0.560516</td>\n",
              "      <td>0.537170</td>\n",
              "      <td>0.537986</td>\n",
              "      <td>0.549989</td>\n",
              "      <td>0.519434</td>\n",
              "      <td>0.508304</td>\n",
              "      <td>0.540967</td>\n",
              "      <td>0.570611</td>\n",
              "      <td>0.587472</td>\n",
              "      <td>0.556779</td>\n",
              "      <td>0.519021</td>\n",
              "      <td>0.507215</td>\n",
              "      <td>0.464078</td>\n",
              "      <td>0.450806</td>\n",
              "      <td>0.475988</td>\n",
              "      <td>0.485856</td>\n",
              "      <td>0.466050</td>\n",
              "      <td>0.392451</td>\n",
              "      <td>...</td>\n",
              "      <td>0.762903</td>\n",
              "      <td>0.757111</td>\n",
              "      <td>0.704867</td>\n",
              "      <td>0.726405</td>\n",
              "      <td>0.720765</td>\n",
              "      <td>0.769695</td>\n",
              "      <td>0.809712</td>\n",
              "      <td>0.703485</td>\n",
              "      <td>0.610350</td>\n",
              "      <td>0.683131</td>\n",
              "      <td>0.746369</td>\n",
              "      <td>0.605945</td>\n",
              "      <td>0.437233</td>\n",
              "      <td>0.395451</td>\n",
              "      <td>0.396267</td>\n",
              "      <td>0.396361</td>\n",
              "      <td>0.354488</td>\n",
              "      <td>0.279633</td>\n",
              "      <td>0.227358</td>\n",
              "      <td>0.123992</td>\n",
              "      <td>-0.031222</td>\n",
              "      <td>-0.155341</td>\n",
              "      <td>-0.219141</td>\n",
              "      <td>-0.239644</td>\n",
              "      <td>-0.333443</td>\n",
              "      <td>-0.557080</td>\n",
              "      <td>-0.811259</td>\n",
              "      <td>-1.072168</td>\n",
              "      <td>-1.497530</td>\n",
              "      <td>-2.047796</td>\n",
              "      <td>-2.495989</td>\n",
              "      <td>-2.821782</td>\n",
              "      <td>-3.268355</td>\n",
              "      <td>-3.634981</td>\n",
              "      <td>-3.168765</td>\n",
              "      <td>-2.245878</td>\n",
              "      <td>-1.262259</td>\n",
              "      <td>-0.443307</td>\n",
              "      <td>-0.559769</td>\n",
              "      <td>0.108568</td>\n",
              "    </tr>\n",
              "    <tr>\n",
              "      <th>4999</th>\n",
              "      <td>2.0</td>\n",
              "      <td>0.728813</td>\n",
              "      <td>0.192597</td>\n",
              "      <td>-0.733884</td>\n",
              "      <td>-1.779456</td>\n",
              "      <td>-2.345908</td>\n",
              "      <td>-2.977565</td>\n",
              "      <td>-3.380053</td>\n",
              "      <td>-3.417164</td>\n",
              "      <td>-3.030925</td>\n",
              "      <td>-2.313867</td>\n",
              "      <td>-1.671269</td>\n",
              "      <td>-1.255303</td>\n",
              "      <td>-1.146982</td>\n",
              "      <td>-1.049088</td>\n",
              "      <td>-0.513524</td>\n",
              "      <td>-0.100892</td>\n",
              "      <td>-0.087888</td>\n",
              "      <td>-0.179308</td>\n",
              "      <td>-0.226885</td>\n",
              "      <td>-0.156335</td>\n",
              "      <td>-0.141478</td>\n",
              "      <td>-0.024932</td>\n",
              "      <td>-0.089615</td>\n",
              "      <td>-0.165480</td>\n",
              "      <td>-0.043243</td>\n",
              "      <td>-0.132201</td>\n",
              "      <td>-0.193009</td>\n",
              "      <td>-0.177407</td>\n",
              "      <td>-0.276008</td>\n",
              "      <td>-0.202072</td>\n",
              "      <td>-0.110621</td>\n",
              "      <td>-0.176676</td>\n",
              "      <td>-0.177095</td>\n",
              "      <td>-0.277154</td>\n",
              "      <td>-0.054093</td>\n",
              "      <td>-0.188261</td>\n",
              "      <td>-0.283490</td>\n",
              "      <td>-0.250398</td>\n",
              "      <td>-0.280567</td>\n",
              "      <td>...</td>\n",
              "      <td>0.343283</td>\n",
              "      <td>0.351328</td>\n",
              "      <td>0.350081</td>\n",
              "      <td>0.487850</td>\n",
              "      <td>0.514130</td>\n",
              "      <td>0.655713</td>\n",
              "      <td>0.659875</td>\n",
              "      <td>0.574770</td>\n",
              "      <td>0.675136</td>\n",
              "      <td>0.624451</td>\n",
              "      <td>0.697013</td>\n",
              "      <td>0.749857</td>\n",
              "      <td>0.829295</td>\n",
              "      <td>0.871171</td>\n",
              "      <td>0.863445</td>\n",
              "      <td>0.916639</td>\n",
              "      <td>0.841814</td>\n",
              "      <td>0.961598</td>\n",
              "      <td>0.877710</td>\n",
              "      <td>0.831334</td>\n",
              "      <td>0.774570</td>\n",
              "      <td>0.894903</td>\n",
              "      <td>1.087536</td>\n",
              "      <td>1.021885</td>\n",
              "      <td>1.208764</td>\n",
              "      <td>1.623936</td>\n",
              "      <td>1.851147</td>\n",
              "      <td>1.818792</td>\n",
              "      <td>1.672569</td>\n",
              "      <td>1.389086</td>\n",
              "      <td>1.219499</td>\n",
              "      <td>1.267275</td>\n",
              "      <td>1.678989</td>\n",
              "      <td>2.483389</td>\n",
              "      <td>2.569073</td>\n",
              "      <td>2.122891</td>\n",
              "      <td>1.753963</td>\n",
              "      <td>1.538975</td>\n",
              "      <td>1.713781</td>\n",
              "      <td>1.309382</td>\n",
              "    </tr>\n",
              "  </tbody>\n",
              "</table>\n",
              "<p>5000 rows × 141 columns</p>\n",
              "</div>"
            ],
            "text/plain": [
              "      0         1         2         3    ...       137       138       139       140\n",
              "0     1.0 -0.112522 -2.827204 -3.773897  ...  0.228077  0.123431  0.925286  0.193137\n",
              "1     1.0 -1.100878 -3.996840 -4.285843  ...  0.476333  0.773820  1.119621 -1.436250\n",
              "2     1.0 -0.567088 -2.593450 -3.874230  ... -0.532197  0.321097  0.904227 -0.421797\n",
              "3     1.0  0.490473 -1.914407 -3.616364  ...  0.990133  1.086798  1.403011 -0.383564\n",
              "4     1.0  0.800232 -0.874252 -2.384761  ...  0.960304  0.971020  1.614392  1.421456\n",
              "...   ...       ...       ...       ...  ...       ...       ...       ...       ...\n",
              "4995  4.0 -1.122969 -2.252925 -2.867628  ... -4.009720 -2.874136 -2.008369 -1.808334\n",
              "4996  2.0 -0.547705 -1.889545 -2.839779  ...  1.193433  1.261335  1.150449  0.804932\n",
              "4997  2.0 -1.351779 -2.209006 -2.520225  ... -3.437038 -2.260023 -1.577823 -0.684531\n",
              "4998  2.0 -1.124432 -1.905039 -2.192707  ... -1.262259 -0.443307 -0.559769  0.108568\n",
              "4999  2.0  0.728813  0.192597 -0.733884  ...  1.753963  1.538975  1.713781  1.309382\n",
              "\n",
              "[5000 rows x 141 columns]"
            ]
          },
          "metadata": {
            "tags": []
          },
          "execution_count": 6
        }
      ]
    },
    {
      "cell_type": "markdown",
      "metadata": {
        "id": "XAmzc5-O8xlg"
      },
      "source": [
        "### class 1.0 is the normal activity of the heart and rest of the classes indicate the irregular activity of the heart \n"
      ]
    },
    {
      "cell_type": "code",
      "metadata": {
        "id": "2Kug-KlF8pwA"
      },
      "source": [
        "df = df.add_prefix('c')"
      ],
      "execution_count": 7,
      "outputs": []
    },
    {
      "cell_type": "code",
      "metadata": {
        "id": "BCoH6p5t9DGH",
        "colab": {
          "base_uri": "https://localhost:8080/"
        },
        "outputId": "749510e6-dfec-4e99-c8ec-8cd8457515ae"
      },
      "source": [
        "df['c0'].value_counts()"
      ],
      "execution_count": 8,
      "outputs": [
        {
          "output_type": "execute_result",
          "data": {
            "text/plain": [
              "1.0    2919\n",
              "2.0    1767\n",
              "4.0     194\n",
              "3.0      96\n",
              "5.0      24\n",
              "Name: c0, dtype: int64"
            ]
          },
          "metadata": {
            "tags": []
          },
          "execution_count": 8
        }
      ]
    },
    {
      "cell_type": "code",
      "metadata": {
        "id": "CB0OU50n9GzR",
        "colab": {
          "base_uri": "https://localhost:8080/",
          "height": 346
        },
        "outputId": "4f5037a8-571a-4119-9331-fffa619a84e8"
      },
      "source": [
        "df.describe()"
      ],
      "execution_count": 9,
      "outputs": [
        {
          "output_type": "execute_result",
          "data": {
            "text/html": [
              "<div>\n",
              "<style scoped>\n",
              "    .dataframe tbody tr th:only-of-type {\n",
              "        vertical-align: middle;\n",
              "    }\n",
              "\n",
              "    .dataframe tbody tr th {\n",
              "        vertical-align: top;\n",
              "    }\n",
              "\n",
              "    .dataframe thead th {\n",
              "        text-align: right;\n",
              "    }\n",
              "</style>\n",
              "<table border=\"1\" class=\"dataframe\">\n",
              "  <thead>\n",
              "    <tr style=\"text-align: right;\">\n",
              "      <th></th>\n",
              "      <th>c0</th>\n",
              "      <th>c1</th>\n",
              "      <th>c2</th>\n",
              "      <th>c3</th>\n",
              "      <th>c4</th>\n",
              "      <th>c5</th>\n",
              "      <th>c6</th>\n",
              "      <th>c7</th>\n",
              "      <th>c8</th>\n",
              "      <th>c9</th>\n",
              "      <th>c10</th>\n",
              "      <th>c11</th>\n",
              "      <th>c12</th>\n",
              "      <th>c13</th>\n",
              "      <th>c14</th>\n",
              "      <th>c15</th>\n",
              "      <th>c16</th>\n",
              "      <th>c17</th>\n",
              "      <th>c18</th>\n",
              "      <th>c19</th>\n",
              "      <th>c20</th>\n",
              "      <th>c21</th>\n",
              "      <th>c22</th>\n",
              "      <th>c23</th>\n",
              "      <th>c24</th>\n",
              "      <th>c25</th>\n",
              "      <th>c26</th>\n",
              "      <th>c27</th>\n",
              "      <th>c28</th>\n",
              "      <th>c29</th>\n",
              "      <th>c30</th>\n",
              "      <th>c31</th>\n",
              "      <th>c32</th>\n",
              "      <th>c33</th>\n",
              "      <th>c34</th>\n",
              "      <th>c35</th>\n",
              "      <th>c36</th>\n",
              "      <th>c37</th>\n",
              "      <th>c38</th>\n",
              "      <th>c39</th>\n",
              "      <th>...</th>\n",
              "      <th>c101</th>\n",
              "      <th>c102</th>\n",
              "      <th>c103</th>\n",
              "      <th>c104</th>\n",
              "      <th>c105</th>\n",
              "      <th>c106</th>\n",
              "      <th>c107</th>\n",
              "      <th>c108</th>\n",
              "      <th>c109</th>\n",
              "      <th>c110</th>\n",
              "      <th>c111</th>\n",
              "      <th>c112</th>\n",
              "      <th>c113</th>\n",
              "      <th>c114</th>\n",
              "      <th>c115</th>\n",
              "      <th>c116</th>\n",
              "      <th>c117</th>\n",
              "      <th>c118</th>\n",
              "      <th>c119</th>\n",
              "      <th>c120</th>\n",
              "      <th>c121</th>\n",
              "      <th>c122</th>\n",
              "      <th>c123</th>\n",
              "      <th>c124</th>\n",
              "      <th>c125</th>\n",
              "      <th>c126</th>\n",
              "      <th>c127</th>\n",
              "      <th>c128</th>\n",
              "      <th>c129</th>\n",
              "      <th>c130</th>\n",
              "      <th>c131</th>\n",
              "      <th>c132</th>\n",
              "      <th>c133</th>\n",
              "      <th>c134</th>\n",
              "      <th>c135</th>\n",
              "      <th>c136</th>\n",
              "      <th>c137</th>\n",
              "      <th>c138</th>\n",
              "      <th>c139</th>\n",
              "      <th>c140</th>\n",
              "    </tr>\n",
              "  </thead>\n",
              "  <tbody>\n",
              "    <tr>\n",
              "      <th>count</th>\n",
              "      <td>5000.000000</td>\n",
              "      <td>5000.000000</td>\n",
              "      <td>5000.000000</td>\n",
              "      <td>5000.000000</td>\n",
              "      <td>5000.000000</td>\n",
              "      <td>5000.000000</td>\n",
              "      <td>5000.000000</td>\n",
              "      <td>5000.000000</td>\n",
              "      <td>5000.000000</td>\n",
              "      <td>5000.000000</td>\n",
              "      <td>5000.000000</td>\n",
              "      <td>5000.000000</td>\n",
              "      <td>5000.000000</td>\n",
              "      <td>5000.000000</td>\n",
              "      <td>5000.000000</td>\n",
              "      <td>5000.000000</td>\n",
              "      <td>5000.000000</td>\n",
              "      <td>5000.000000</td>\n",
              "      <td>5000.000000</td>\n",
              "      <td>5000.000000</td>\n",
              "      <td>5000.000000</td>\n",
              "      <td>5000.000000</td>\n",
              "      <td>5000.000000</td>\n",
              "      <td>5000.000000</td>\n",
              "      <td>5000.000000</td>\n",
              "      <td>5000.000000</td>\n",
              "      <td>5000.000000</td>\n",
              "      <td>5000.000000</td>\n",
              "      <td>5000.000000</td>\n",
              "      <td>5000.000000</td>\n",
              "      <td>5000.000000</td>\n",
              "      <td>5000.000000</td>\n",
              "      <td>5000.000000</td>\n",
              "      <td>5000.000000</td>\n",
              "      <td>5000.000000</td>\n",
              "      <td>5000.000000</td>\n",
              "      <td>5000.000000</td>\n",
              "      <td>5000.000000</td>\n",
              "      <td>5000.000000</td>\n",
              "      <td>5000.000000</td>\n",
              "      <td>...</td>\n",
              "      <td>5000.000000</td>\n",
              "      <td>5000.000000</td>\n",
              "      <td>5000.000000</td>\n",
              "      <td>5000.000000</td>\n",
              "      <td>5000.000000</td>\n",
              "      <td>5000.000000</td>\n",
              "      <td>5000.000000</td>\n",
              "      <td>5000.000000</td>\n",
              "      <td>5000.000000</td>\n",
              "      <td>5000.000000</td>\n",
              "      <td>5000.000000</td>\n",
              "      <td>5000.000000</td>\n",
              "      <td>5000.000000</td>\n",
              "      <td>5000.000000</td>\n",
              "      <td>5000.000000</td>\n",
              "      <td>5000.000000</td>\n",
              "      <td>5000.000000</td>\n",
              "      <td>5000.000000</td>\n",
              "      <td>5000.000000</td>\n",
              "      <td>5000.000000</td>\n",
              "      <td>5000.000000</td>\n",
              "      <td>5000.000000</td>\n",
              "      <td>5000.000000</td>\n",
              "      <td>5000.000000</td>\n",
              "      <td>5000.000000</td>\n",
              "      <td>5000.000000</td>\n",
              "      <td>5000.000000</td>\n",
              "      <td>5000.000000</td>\n",
              "      <td>5000.000000</td>\n",
              "      <td>5000.000000</td>\n",
              "      <td>5000.000000</td>\n",
              "      <td>5000.000000</td>\n",
              "      <td>5000.000000</td>\n",
              "      <td>5000.000000</td>\n",
              "      <td>5000.000000</td>\n",
              "      <td>5000.000000</td>\n",
              "      <td>5000.000000</td>\n",
              "      <td>5000.000000</td>\n",
              "      <td>5000.000000</td>\n",
              "      <td>5000.000000</td>\n",
              "    </tr>\n",
              "    <tr>\n",
              "      <th>mean</th>\n",
              "      <td>1.527400</td>\n",
              "      <td>-0.262476</td>\n",
              "      <td>-1.649511</td>\n",
              "      <td>-2.492211</td>\n",
              "      <td>-3.119443</td>\n",
              "      <td>-3.167438</td>\n",
              "      <td>-2.866308</td>\n",
              "      <td>-2.273126</td>\n",
              "      <td>-1.798127</td>\n",
              "      <td>-1.410124</td>\n",
              "      <td>-0.936082</td>\n",
              "      <td>-0.586326</td>\n",
              "      <td>-0.434430</td>\n",
              "      <td>-0.337621</td>\n",
              "      <td>-0.258235</td>\n",
              "      <td>-0.184443</td>\n",
              "      <td>-0.120015</td>\n",
              "      <td>-0.070396</td>\n",
              "      <td>-0.041849</td>\n",
              "      <td>-0.037049</td>\n",
              "      <td>-0.041243</td>\n",
              "      <td>-0.048908</td>\n",
              "      <td>-0.060176</td>\n",
              "      <td>-0.070725</td>\n",
              "      <td>-0.085491</td>\n",
              "      <td>-0.101144</td>\n",
              "      <td>-0.116070</td>\n",
              "      <td>-0.134461</td>\n",
              "      <td>-0.155811</td>\n",
              "      <td>-0.177542</td>\n",
              "      <td>-0.200685</td>\n",
              "      <td>-0.224244</td>\n",
              "      <td>-0.246686</td>\n",
              "      <td>-0.271476</td>\n",
              "      <td>-0.290321</td>\n",
              "      <td>-0.304461</td>\n",
              "      <td>-0.315111</td>\n",
              "      <td>-0.316851</td>\n",
              "      <td>-0.313070</td>\n",
              "      <td>-0.303238</td>\n",
              "      <td>...</td>\n",
              "      <td>0.946527</td>\n",
              "      <td>1.051337</td>\n",
              "      <td>1.138071</td>\n",
              "      <td>1.187551</td>\n",
              "      <td>1.201909</td>\n",
              "      <td>1.190866</td>\n",
              "      <td>1.154605</td>\n",
              "      <td>1.086347</td>\n",
              "      <td>0.986863</td>\n",
              "      <td>0.864419</td>\n",
              "      <td>0.720300</td>\n",
              "      <td>0.570000</td>\n",
              "      <td>0.428955</td>\n",
              "      <td>0.319734</td>\n",
              "      <td>0.242586</td>\n",
              "      <td>0.181059</td>\n",
              "      <td>0.134708</td>\n",
              "      <td>0.109781</td>\n",
              "      <td>0.093630</td>\n",
              "      <td>0.081028</td>\n",
              "      <td>0.065780</td>\n",
              "      <td>0.047326</td>\n",
              "      <td>0.025409</td>\n",
              "      <td>0.004531</td>\n",
              "      <td>-0.009790</td>\n",
              "      <td>-0.019087</td>\n",
              "      <td>-0.026208</td>\n",
              "      <td>-0.029561</td>\n",
              "      <td>0.000637</td>\n",
              "      <td>0.086588</td>\n",
              "      <td>0.146319</td>\n",
              "      <td>0.070973</td>\n",
              "      <td>-0.062914</td>\n",
              "      <td>-0.276206</td>\n",
              "      <td>-0.507667</td>\n",
              "      <td>-0.761043</td>\n",
              "      <td>-0.834741</td>\n",
              "      <td>-0.642263</td>\n",
              "      <td>-0.487242</td>\n",
              "      <td>-0.706008</td>\n",
              "    </tr>\n",
              "    <tr>\n",
              "      <th>std</th>\n",
              "      <td>0.760372</td>\n",
              "      <td>1.152369</td>\n",
              "      <td>1.445493</td>\n",
              "      <td>1.386409</td>\n",
              "      <td>1.302802</td>\n",
              "      <td>1.104382</td>\n",
              "      <td>0.906133</td>\n",
              "      <td>0.731627</td>\n",
              "      <td>0.623100</td>\n",
              "      <td>0.637149</td>\n",
              "      <td>0.657945</td>\n",
              "      <td>0.592049</td>\n",
              "      <td>0.493606</td>\n",
              "      <td>0.426206</td>\n",
              "      <td>0.393553</td>\n",
              "      <td>0.382488</td>\n",
              "      <td>0.386315</td>\n",
              "      <td>0.400830</td>\n",
              "      <td>0.415267</td>\n",
              "      <td>0.423797</td>\n",
              "      <td>0.429734</td>\n",
              "      <td>0.434976</td>\n",
              "      <td>0.441768</td>\n",
              "      <td>0.447727</td>\n",
              "      <td>0.454600</td>\n",
              "      <td>0.461603</td>\n",
              "      <td>0.472726</td>\n",
              "      <td>0.483574</td>\n",
              "      <td>0.492048</td>\n",
              "      <td>0.503468</td>\n",
              "      <td>0.516169</td>\n",
              "      <td>0.530030</td>\n",
              "      <td>0.543061</td>\n",
              "      <td>0.552285</td>\n",
              "      <td>0.560649</td>\n",
              "      <td>0.564906</td>\n",
              "      <td>0.566459</td>\n",
              "      <td>0.560789</td>\n",
              "      <td>0.548964</td>\n",
              "      <td>0.536229</td>\n",
              "      <td>...</td>\n",
              "      <td>0.520027</td>\n",
              "      <td>0.574633</td>\n",
              "      <td>0.614855</td>\n",
              "      <td>0.623050</td>\n",
              "      <td>0.608319</td>\n",
              "      <td>0.582721</td>\n",
              "      <td>0.553923</td>\n",
              "      <td>0.531272</td>\n",
              "      <td>0.507226</td>\n",
              "      <td>0.485600</td>\n",
              "      <td>0.483479</td>\n",
              "      <td>0.511334</td>\n",
              "      <td>0.546391</td>\n",
              "      <td>0.565580</td>\n",
              "      <td>0.571998</td>\n",
              "      <td>0.573798</td>\n",
              "      <td>0.584480</td>\n",
              "      <td>0.589680</td>\n",
              "      <td>0.591613</td>\n",
              "      <td>0.597117</td>\n",
              "      <td>0.603953</td>\n",
              "      <td>0.610288</td>\n",
              "      <td>0.619812</td>\n",
              "      <td>0.633101</td>\n",
              "      <td>0.649239</td>\n",
              "      <td>0.667657</td>\n",
              "      <td>0.680713</td>\n",
              "      <td>0.693871</td>\n",
              "      <td>0.751844</td>\n",
              "      <td>0.920052</td>\n",
              "      <td>1.171299</td>\n",
              "      <td>1.404842</td>\n",
              "      <td>1.646585</td>\n",
              "      <td>1.895134</td>\n",
              "      <td>2.059758</td>\n",
              "      <td>2.086218</td>\n",
              "      <td>2.056220</td>\n",
              "      <td>1.859296</td>\n",
              "      <td>1.830987</td>\n",
              "      <td>1.414465</td>\n",
              "    </tr>\n",
              "    <tr>\n",
              "      <th>min</th>\n",
              "      <td>1.000000</td>\n",
              "      <td>-6.729499</td>\n",
              "      <td>-7.090374</td>\n",
              "      <td>-5.132459</td>\n",
              "      <td>-5.363241</td>\n",
              "      <td>-5.375715</td>\n",
              "      <td>-5.330194</td>\n",
              "      <td>-4.782240</td>\n",
              "      <td>-4.311288</td>\n",
              "      <td>-4.071361</td>\n",
              "      <td>-4.142476</td>\n",
              "      <td>-4.040526</td>\n",
              "      <td>-3.724538</td>\n",
              "      <td>-3.264576</td>\n",
              "      <td>-3.222345</td>\n",
              "      <td>-3.263484</td>\n",
              "      <td>-3.219212</td>\n",
              "      <td>-3.202187</td>\n",
              "      <td>-3.147504</td>\n",
              "      <td>-3.459917</td>\n",
              "      <td>-4.102102</td>\n",
              "      <td>-4.311241</td>\n",
              "      <td>-4.099888</td>\n",
              "      <td>-3.614973</td>\n",
              "      <td>-3.822298</td>\n",
              "      <td>-3.795567</td>\n",
              "      <td>-3.690817</td>\n",
              "      <td>-3.542485</td>\n",
              "      <td>-3.631665</td>\n",
              "      <td>-3.587112</td>\n",
              "      <td>-3.452215</td>\n",
              "      <td>-4.074752</td>\n",
              "      <td>-4.137454</td>\n",
              "      <td>-4.059662</td>\n",
              "      <td>-3.626646</td>\n",
              "      <td>-2.829471</td>\n",
              "      <td>-3.585866</td>\n",
              "      <td>-4.003401</td>\n",
              "      <td>-3.900724</td>\n",
              "      <td>-3.325329</td>\n",
              "      <td>...</td>\n",
              "      <td>-2.662170</td>\n",
              "      <td>-2.634950</td>\n",
              "      <td>-2.634768</td>\n",
              "      <td>-2.591663</td>\n",
              "      <td>-2.446476</td>\n",
              "      <td>-2.234175</td>\n",
              "      <td>-2.431403</td>\n",
              "      <td>-2.681604</td>\n",
              "      <td>-2.864706</td>\n",
              "      <td>-3.415656</td>\n",
              "      <td>-3.497624</td>\n",
              "      <td>-3.091282</td>\n",
              "      <td>-2.608510</td>\n",
              "      <td>-2.383204</td>\n",
              "      <td>-2.678883</td>\n",
              "      <td>-3.305661</td>\n",
              "      <td>-3.179590</td>\n",
              "      <td>-3.311559</td>\n",
              "      <td>-3.501555</td>\n",
              "      <td>-4.007212</td>\n",
              "      <td>-4.199563</td>\n",
              "      <td>-3.335678</td>\n",
              "      <td>-3.127603</td>\n",
              "      <td>-3.042532</td>\n",
              "      <td>-3.116177</td>\n",
              "      <td>-3.972320</td>\n",
              "      <td>-4.754057</td>\n",
              "      <td>-4.290016</td>\n",
              "      <td>-3.802469</td>\n",
              "      <td>-4.014642</td>\n",
              "      <td>-3.971715</td>\n",
              "      <td>-4.167040</td>\n",
              "      <td>-4.557576</td>\n",
              "      <td>-4.530488</td>\n",
              "      <td>-4.563270</td>\n",
              "      <td>-5.150100</td>\n",
              "      <td>-4.880460</td>\n",
              "      <td>-5.496107</td>\n",
              "      <td>-5.880890</td>\n",
              "      <td>-6.092227</td>\n",
              "    </tr>\n",
              "    <tr>\n",
              "      <th>25%</th>\n",
              "      <td>1.000000</td>\n",
              "      <td>-1.004511</td>\n",
              "      <td>-2.701576</td>\n",
              "      <td>-3.668096</td>\n",
              "      <td>-4.227247</td>\n",
              "      <td>-4.007470</td>\n",
              "      <td>-3.480479</td>\n",
              "      <td>-2.779941</td>\n",
              "      <td>-2.165851</td>\n",
              "      <td>-1.774124</td>\n",
              "      <td>-1.362068</td>\n",
              "      <td>-0.935730</td>\n",
              "      <td>-0.704797</td>\n",
              "      <td>-0.557938</td>\n",
              "      <td>-0.457267</td>\n",
              "      <td>-0.392099</td>\n",
              "      <td>-0.346567</td>\n",
              "      <td>-0.329879</td>\n",
              "      <td>-0.332123</td>\n",
              "      <td>-0.342879</td>\n",
              "      <td>-0.359587</td>\n",
              "      <td>-0.373523</td>\n",
              "      <td>-0.392615</td>\n",
              "      <td>-0.415157</td>\n",
              "      <td>-0.441247</td>\n",
              "      <td>-0.470702</td>\n",
              "      <td>-0.501586</td>\n",
              "      <td>-0.538227</td>\n",
              "      <td>-0.570103</td>\n",
              "      <td>-0.616792</td>\n",
              "      <td>-0.650610</td>\n",
              "      <td>-0.695386</td>\n",
              "      <td>-0.735151</td>\n",
              "      <td>-0.770997</td>\n",
              "      <td>-0.799982</td>\n",
              "      <td>-0.812191</td>\n",
              "      <td>-0.827238</td>\n",
              "      <td>-0.815797</td>\n",
              "      <td>-0.795940</td>\n",
              "      <td>-0.762395</td>\n",
              "      <td>...</td>\n",
              "      <td>0.598936</td>\n",
              "      <td>0.637738</td>\n",
              "      <td>0.665225</td>\n",
              "      <td>0.688164</td>\n",
              "      <td>0.700096</td>\n",
              "      <td>0.713628</td>\n",
              "      <td>0.725200</td>\n",
              "      <td>0.719349</td>\n",
              "      <td>0.687158</td>\n",
              "      <td>0.628526</td>\n",
              "      <td>0.495111</td>\n",
              "      <td>0.255371</td>\n",
              "      <td>0.016633</td>\n",
              "      <td>-0.128735</td>\n",
              "      <td>-0.190527</td>\n",
              "      <td>-0.222440</td>\n",
              "      <td>-0.254884</td>\n",
              "      <td>-0.269984</td>\n",
              "      <td>-0.280098</td>\n",
              "      <td>-0.281648</td>\n",
              "      <td>-0.276871</td>\n",
              "      <td>-0.275941</td>\n",
              "      <td>-0.283400</td>\n",
              "      <td>-0.294317</td>\n",
              "      <td>-0.297383</td>\n",
              "      <td>-0.306833</td>\n",
              "      <td>-0.316086</td>\n",
              "      <td>-0.319952</td>\n",
              "      <td>-0.335665</td>\n",
              "      <td>-0.403909</td>\n",
              "      <td>-0.655753</td>\n",
              "      <td>-1.089300</td>\n",
              "      <td>-1.588885</td>\n",
              "      <td>-2.147449</td>\n",
              "      <td>-2.731550</td>\n",
              "      <td>-3.030509</td>\n",
              "      <td>-2.868331</td>\n",
              "      <td>-2.153513</td>\n",
              "      <td>-1.657771</td>\n",
              "      <td>-1.596692</td>\n",
              "    </tr>\n",
              "    <tr>\n",
              "      <th>50%</th>\n",
              "      <td>1.000000</td>\n",
              "      <td>-0.297541</td>\n",
              "      <td>-1.661892</td>\n",
              "      <td>-2.585677</td>\n",
              "      <td>-3.387934</td>\n",
              "      <td>-3.468718</td>\n",
              "      <td>-2.947061</td>\n",
              "      <td>-2.285578</td>\n",
              "      <td>-1.750157</td>\n",
              "      <td>-1.422570</td>\n",
              "      <td>-0.910487</td>\n",
              "      <td>-0.503252</td>\n",
              "      <td>-0.411444</td>\n",
              "      <td>-0.352522</td>\n",
              "      <td>-0.294927</td>\n",
              "      <td>-0.238326</td>\n",
              "      <td>-0.186184</td>\n",
              "      <td>-0.144882</td>\n",
              "      <td>-0.125969</td>\n",
              "      <td>-0.131354</td>\n",
              "      <td>-0.138634</td>\n",
              "      <td>-0.147518</td>\n",
              "      <td>-0.160052</td>\n",
              "      <td>-0.175798</td>\n",
              "      <td>-0.193161</td>\n",
              "      <td>-0.211104</td>\n",
              "      <td>-0.228285</td>\n",
              "      <td>-0.243069</td>\n",
              "      <td>-0.269368</td>\n",
              "      <td>-0.276044</td>\n",
              "      <td>-0.299238</td>\n",
              "      <td>-0.308305</td>\n",
              "      <td>-0.315026</td>\n",
              "      <td>-0.329079</td>\n",
              "      <td>-0.343601</td>\n",
              "      <td>-0.356198</td>\n",
              "      <td>-0.363587</td>\n",
              "      <td>-0.361086</td>\n",
              "      <td>-0.359822</td>\n",
              "      <td>-0.343371</td>\n",
              "      <td>...</td>\n",
              "      <td>0.839880</td>\n",
              "      <td>0.922165</td>\n",
              "      <td>1.030927</td>\n",
              "      <td>1.148533</td>\n",
              "      <td>1.245474</td>\n",
              "      <td>1.278506</td>\n",
              "      <td>1.188410</td>\n",
              "      <td>1.047127</td>\n",
              "      <td>0.924997</td>\n",
              "      <td>0.820237</td>\n",
              "      <td>0.718438</td>\n",
              "      <td>0.626942</td>\n",
              "      <td>0.507614</td>\n",
              "      <td>0.367181</td>\n",
              "      <td>0.254663</td>\n",
              "      <td>0.112411</td>\n",
              "      <td>0.021386</td>\n",
              "      <td>-0.008728</td>\n",
              "      <td>-0.017624</td>\n",
              "      <td>-0.024967</td>\n",
              "      <td>-0.036221</td>\n",
              "      <td>-0.054501</td>\n",
              "      <td>-0.070819</td>\n",
              "      <td>-0.087635</td>\n",
              "      <td>-0.098353</td>\n",
              "      <td>-0.103667</td>\n",
              "      <td>-0.104560</td>\n",
              "      <td>-0.074941</td>\n",
              "      <td>0.015636</td>\n",
              "      <td>0.188872</td>\n",
              "      <td>0.473642</td>\n",
              "      <td>0.658318</td>\n",
              "      <td>0.717808</td>\n",
              "      <td>0.604747</td>\n",
              "      <td>0.334857</td>\n",
              "      <td>-0.030767</td>\n",
              "      <td>-0.195151</td>\n",
              "      <td>-0.194423</td>\n",
              "      <td>-0.160262</td>\n",
              "      <td>-0.565588</td>\n",
              "    </tr>\n",
              "    <tr>\n",
              "      <th>75%</th>\n",
              "      <td>2.000000</td>\n",
              "      <td>0.500061</td>\n",
              "      <td>-0.677290</td>\n",
              "      <td>-1.513964</td>\n",
              "      <td>-2.235369</td>\n",
              "      <td>-2.530967</td>\n",
              "      <td>-2.398813</td>\n",
              "      <td>-1.823494</td>\n",
              "      <td>-1.484923</td>\n",
              "      <td>-1.063708</td>\n",
              "      <td>-0.476660</td>\n",
              "      <td>-0.245829</td>\n",
              "      <td>-0.203943</td>\n",
              "      <td>-0.173206</td>\n",
              "      <td>-0.114979</td>\n",
              "      <td>-0.022799</td>\n",
              "      <td>0.079113</td>\n",
              "      <td>0.182544</td>\n",
              "      <td>0.254382</td>\n",
              "      <td>0.294451</td>\n",
              "      <td>0.307700</td>\n",
              "      <td>0.312671</td>\n",
              "      <td>0.309714</td>\n",
              "      <td>0.310192</td>\n",
              "      <td>0.310867</td>\n",
              "      <td>0.307251</td>\n",
              "      <td>0.310081</td>\n",
              "      <td>0.308852</td>\n",
              "      <td>0.303877</td>\n",
              "      <td>0.295029</td>\n",
              "      <td>0.291460</td>\n",
              "      <td>0.286058</td>\n",
              "      <td>0.277438</td>\n",
              "      <td>0.268212</td>\n",
              "      <td>0.267853</td>\n",
              "      <td>0.256795</td>\n",
              "      <td>0.238882</td>\n",
              "      <td>0.233686</td>\n",
              "      <td>0.222895</td>\n",
              "      <td>0.215748</td>\n",
              "      <td>...</td>\n",
              "      <td>1.312210</td>\n",
              "      <td>1.521455</td>\n",
              "      <td>1.701035</td>\n",
              "      <td>1.765994</td>\n",
              "      <td>1.752310</td>\n",
              "      <td>1.686186</td>\n",
              "      <td>1.586685</td>\n",
              "      <td>1.424607</td>\n",
              "      <td>1.240844</td>\n",
              "      <td>1.051336</td>\n",
              "      <td>0.929503</td>\n",
              "      <td>0.861611</td>\n",
              "      <td>0.807057</td>\n",
              "      <td>0.773711</td>\n",
              "      <td>0.713567</td>\n",
              "      <td>0.627149</td>\n",
              "      <td>0.572461</td>\n",
              "      <td>0.550587</td>\n",
              "      <td>0.520526</td>\n",
              "      <td>0.486922</td>\n",
              "      <td>0.438161</td>\n",
              "      <td>0.385089</td>\n",
              "      <td>0.317233</td>\n",
              "      <td>0.251191</td>\n",
              "      <td>0.200961</td>\n",
              "      <td>0.180407</td>\n",
              "      <td>0.177057</td>\n",
              "      <td>0.215272</td>\n",
              "      <td>0.346149</td>\n",
              "      <td>0.715405</td>\n",
              "      <td>1.062134</td>\n",
              "      <td>1.169420</td>\n",
              "      <td>1.238687</td>\n",
              "      <td>1.264471</td>\n",
              "      <td>1.234433</td>\n",
              "      <td>1.034584</td>\n",
              "      <td>0.945237</td>\n",
              "      <td>0.951681</td>\n",
              "      <td>1.002692</td>\n",
              "      <td>0.272012</td>\n",
              "    </tr>\n",
              "    <tr>\n",
              "      <th>max</th>\n",
              "      <td>5.000000</td>\n",
              "      <td>4.966414</td>\n",
              "      <td>3.479689</td>\n",
              "      <td>2.660597</td>\n",
              "      <td>1.899798</td>\n",
              "      <td>2.147015</td>\n",
              "      <td>1.614375</td>\n",
              "      <td>1.868728</td>\n",
              "      <td>1.804251</td>\n",
              "      <td>1.683730</td>\n",
              "      <td>1.898627</td>\n",
              "      <td>2.033007</td>\n",
              "      <td>2.159861</td>\n",
              "      <td>2.390867</td>\n",
              "      <td>2.433236</td>\n",
              "      <td>2.160356</td>\n",
              "      <td>2.125758</td>\n",
              "      <td>2.566762</td>\n",
              "      <td>2.099727</td>\n",
              "      <td>2.117594</td>\n",
              "      <td>2.076279</td>\n",
              "      <td>2.053132</td>\n",
              "      <td>2.091794</td>\n",
              "      <td>2.003258</td>\n",
              "      <td>1.950623</td>\n",
              "      <td>1.958402</td>\n",
              "      <td>1.966838</td>\n",
              "      <td>1.941571</td>\n",
              "      <td>1.964678</td>\n",
              "      <td>1.866897</td>\n",
              "      <td>1.870258</td>\n",
              "      <td>1.862162</td>\n",
              "      <td>2.063265</td>\n",
              "      <td>1.941110</td>\n",
              "      <td>1.931091</td>\n",
              "      <td>1.890201</td>\n",
              "      <td>1.834472</td>\n",
              "      <td>1.721037</td>\n",
              "      <td>1.619301</td>\n",
              "      <td>1.583824</td>\n",
              "      <td>...</td>\n",
              "      <td>2.942679</td>\n",
              "      <td>2.836767</td>\n",
              "      <td>2.820616</td>\n",
              "      <td>2.940154</td>\n",
              "      <td>2.685726</td>\n",
              "      <td>2.959324</td>\n",
              "      <td>2.895572</td>\n",
              "      <td>2.604823</td>\n",
              "      <td>2.478775</td>\n",
              "      <td>2.513328</td>\n",
              "      <td>2.599892</td>\n",
              "      <td>2.937152</td>\n",
              "      <td>2.950522</td>\n",
              "      <td>2.830852</td>\n",
              "      <td>2.861781</td>\n",
              "      <td>2.828775</td>\n",
              "      <td>2.702857</td>\n",
              "      <td>2.538437</td>\n",
              "      <td>2.680203</td>\n",
              "      <td>2.764017</td>\n",
              "      <td>2.839710</td>\n",
              "      <td>2.714548</td>\n",
              "      <td>2.869542</td>\n",
              "      <td>3.052377</td>\n",
              "      <td>3.141808</td>\n",
              "      <td>3.215135</td>\n",
              "      <td>3.198790</td>\n",
              "      <td>3.086137</td>\n",
              "      <td>3.157157</td>\n",
              "      <td>3.037078</td>\n",
              "      <td>2.960969</td>\n",
              "      <td>3.007606</td>\n",
              "      <td>2.854680</td>\n",
              "      <td>2.912394</td>\n",
              "      <td>2.937685</td>\n",
              "      <td>3.351437</td>\n",
              "      <td>3.432518</td>\n",
              "      <td>3.579448</td>\n",
              "      <td>4.425976</td>\n",
              "      <td>7.402103</td>\n",
              "    </tr>\n",
              "  </tbody>\n",
              "</table>\n",
              "<p>8 rows × 141 columns</p>\n",
              "</div>"
            ],
            "text/plain": [
              "                c0           c1  ...         c139         c140\n",
              "count  5000.000000  5000.000000  ...  5000.000000  5000.000000\n",
              "mean      1.527400    -0.262476  ...    -0.487242    -0.706008\n",
              "std       0.760372     1.152369  ...     1.830987     1.414465\n",
              "min       1.000000    -6.729499  ...    -5.880890    -6.092227\n",
              "25%       1.000000    -1.004511  ...    -1.657771    -1.596692\n",
              "50%       1.000000    -0.297541  ...    -0.160262    -0.565588\n",
              "75%       2.000000     0.500061  ...     1.002692     0.272012\n",
              "max       5.000000     4.966414  ...     4.425976     7.402103\n",
              "\n",
              "[8 rows x 141 columns]"
            ]
          },
          "metadata": {
            "tags": []
          },
          "execution_count": 9
        }
      ]
    },
    {
      "cell_type": "markdown",
      "metadata": {
        "id": "5YOqHEkg9xjf"
      },
      "source": [
        "##### Splitting the data into train test (75-25 split)"
      ]
    },
    {
      "cell_type": "code",
      "metadata": {
        "id": "aYZwYjMk9JI8"
      },
      "source": [
        "train_data, test_data, train_labels, test_labels = train_test_split(df.values, df.values[:,0:1], test_size=0.25, random_state=26)"
      ],
      "execution_count": 10,
      "outputs": []
    },
    {
      "cell_type": "markdown",
      "metadata": {
        "id": "AXjw9m43-blf"
      },
      "source": [
        "Scaling the entire dataset on the train data alone"
      ]
    },
    {
      "cell_type": "code",
      "metadata": {
        "id": "U23SV1lM-RVK"
      },
      "source": [
        "scaler = MinMaxScaler()\n",
        "data_scaled = scaler.fit(train_data)"
      ],
      "execution_count": 11,
      "outputs": []
    },
    {
      "cell_type": "code",
      "metadata": {
        "id": "BHd-GGD1-g8t"
      },
      "source": [
        "train_data_scaled = data_scaled.transform(train_data)"
      ],
      "execution_count": 12,
      "outputs": []
    },
    {
      "cell_type": "code",
      "metadata": {
        "id": "xoyUBENZ-wsj"
      },
      "source": [
        "test_data_scaled = data_scaled.transform(test_data)"
      ],
      "execution_count": 13,
      "outputs": []
    },
    {
      "cell_type": "code",
      "metadata": {
        "id": "-E3NERPm-15l",
        "colab": {
          "base_uri": "https://localhost:8080/"
        },
        "outputId": "23d21c7e-71fc-4104-f2b2-a8fadf4be8d4"
      },
      "source": [
        "train_data_scaled"
      ],
      "execution_count": 14,
      "outputs": [
        {
          "output_type": "execute_result",
          "data": {
            "text/plain": [
              "array([[0.25      , 0.62769167, 0.69756713, ..., 0.62888774, 0.65169114,\n",
              "        0.68756909],\n",
              "       [0.        , 0.66430573, 0.56301439, ..., 0.86658775, 0.73565367,\n",
              "        0.43300442],\n",
              "       [0.25      , 0.56978392, 0.58491893, ..., 0.38030581, 0.44481563,\n",
              "        0.54160047],\n",
              "       ...,\n",
              "       [0.        , 0.52504769, 0.47743567, ..., 0.73189925, 0.71628258,\n",
              "        0.57000088],\n",
              "       [0.        , 0.55996138, 0.4998238 , ..., 0.68652189, 0.64722944,\n",
              "        0.48053259],\n",
              "       [0.75      , 0.53505002, 0.5205825 , ..., 0.31639317, 0.40549837,\n",
              "        0.51147639]])"
            ]
          },
          "metadata": {
            "tags": []
          },
          "execution_count": 14
        }
      ]
    },
    {
      "cell_type": "code",
      "metadata": {
        "id": "jxrwEDAW-_ci"
      },
      "source": [
        "normal_train_data = pd.DataFrame(train_data_scaled).add_prefix('c').query('c0==0').values[:,1:]\n",
        "anomaly_train_data = pd.DataFrame(train_data_scaled).add_prefix('c').query('c0 > 0').values[:,1:]"
      ],
      "execution_count": 15,
      "outputs": []
    },
    {
      "cell_type": "code",
      "metadata": {
        "id": "T3KHCW3pm2Ak"
      },
      "source": [
        "normal_test_data= pd.DataFrame(test_data_scaled).add_prefix('c').query('c0 == 0').values[:,1:]\n",
        "anomaly_test_data = pd.DataFrame(test_data_scaled).add_prefix('c').query('c0 > 0').values[:,1:]"
      ],
      "execution_count": 16,
      "outputs": []
    },
    {
      "cell_type": "code",
      "metadata": {
        "id": "krsX3HZS_eVD",
        "colab": {
          "base_uri": "https://localhost:8080/"
        },
        "outputId": "a9d8f2eb-d3f3-42f2-cc5a-114cc8b72d71"
      },
      "source": [
        "print(anomaly_train_data.shape)\n",
        "print(anomaly_test_data.shape)\n",
        "print(normal_train_data.shape)\n",
        "print(normal_test_data.shape)"
      ],
      "execution_count": 17,
      "outputs": [
        {
          "output_type": "stream",
          "text": [
            "(1554, 140)\n",
            "(527, 140)\n",
            "(2196, 140)\n",
            "(723, 140)\n"
          ],
          "name": "stdout"
        }
      ]
    },
    {
      "cell_type": "code",
      "metadata": {
        "id": "p3yEJKBhmQ2o",
        "colab": {
          "base_uri": "https://localhost:8080/",
          "height": 282
        },
        "outputId": "ddf7f5fc-667b-43d4-bc13-f61b0de792f6"
      },
      "source": [
        "plt.plot(normal_train_data[0])\n",
        "plt.plot(normal_train_data[1])\n",
        "plt.plot(normal_train_data[2])"
      ],
      "execution_count": 18,
      "outputs": [
        {
          "output_type": "execute_result",
          "data": {
            "text/plain": [
              "[<matplotlib.lines.Line2D at 0x7f27260cc240>]"
            ]
          },
          "metadata": {
            "tags": []
          },
          "execution_count": 18
        },
        {
          "output_type": "display_data",
          "data": {
            "image/png": "[encoded data removed]",
            "text/plain": [
              "<Figure size 432x288 with 1 Axes>"
            ]
          },
          "metadata": {
            "tags": [],
            "needs_background": "light"
          }
        }
      ]
    },
    {
      "cell_type": "code",
      "metadata": {
        "id": "JhaTHrwNmScX",
        "colab": {
          "base_uri": "https://localhost:8080/",
          "height": 282
        },
        "outputId": "2f13028e-2d08-4694-9313-81c265a6c4cb"
      },
      "source": [
        "plt.plot(anomaly_train_data[0])\n",
        "plt.plot(anomaly_train_data[1])\n",
        "plt.plot(anomaly_train_data[2])"
      ],
      "execution_count": 19,
      "outputs": [
        {
          "output_type": "execute_result",
          "data": {
            "text/plain": [
              "[<matplotlib.lines.Line2D at 0x7f26ceb60a90>]"
            ]
          },
          "metadata": {
            "tags": []
          },
          "execution_count": 19
        },
        {
          "output_type": "display_data",
          "data": {
            "image/png": "[encoded data removed]",
            "text/plain": [
              "<Figure size 432x288 with 1 Axes>"
            ]
          },
          "metadata": {
            "tags": [],
            "needs_background": "light"
          }
        }
      ]
    },
    {
      "cell_type": "markdown",
      "metadata": {
        "id": "O5bfo336zzvZ"
      },
      "source": [
        "#Model 1 "
      ]
    },
    {
      "cell_type": "code",
      "metadata": {
        "id": "ISnxdW7nmTr5"
      },
      "source": [
        "class AutoEncoder(Model):\n",
        "  def __init__(self,activation='relu'):\n",
        "    super(AutoEncoder, self).__init__()\n",
        "    self.encoder = tf.keras.Sequential([\n",
        "      tf.keras.layers.Dense(64, activation=activation),\n",
        "      tf.keras.layers.Dense(32, activation=activation),\n",
        "      tf.keras.layers.Dense(16, activation=activation),\n",
        "      tf.keras.layers.Dense(8, activation=activation)])\n",
        "    \n",
        "    self.decoder = tf.keras.Sequential([\n",
        "      tf.keras.layers.Dense(16, activation=activation),\n",
        "      tf.keras.layers.Dense(32, activation=activation),\n",
        "      tf.keras.layers.Dense(64, activation=activation),\n",
        "      tf.keras.layers.Dense(140, activation=\"sigmoid\")])\n",
        "    \n",
        "  def call(self, x):\n",
        "    encoded = self.encoder(x)\n",
        "    decoded = self.decoder(encoded)\n",
        "    return decoded"
      ],
      "execution_count": 20,
      "outputs": []
    },
    {
      "cell_type": "code",
      "metadata": {
        "id": "4khUKKhKmWhx"
      },
      "source": [
        "model= AutoEncoder()\n",
        "early_stopping = tf.keras.callbacks.EarlyStopping(monitor='val_loss',\n",
        "                                                    patience=2,\n",
        "                                                    mode='min')\n",
        "\n",
        "model.compile(optimizer='adam', loss='mae')"
      ],
      "execution_count": 21,
      "outputs": []
    },
    {
      "cell_type": "code",
      "metadata": {
        "id": "Ai55UgAMmYJN",
        "colab": {
          "base_uri": "https://localhost:8080/"
        },
        "outputId": "1373792c-1637-4dec-a588-fc3e2e1cf98b"
      },
      "source": [
        "history = model.fit(normal_train_data, normal_train_data, \n",
        "          epochs=50, \n",
        "          batch_size=128,\n",
        "          validation_data=(train_data_scaled[:,1:], train_data_scaled[:,1:]),\n",
        "          shuffle=True,\n",
        "          callbacks=[early_stopping])"
      ],
      "execution_count": 22,
      "outputs": [
        {
          "output_type": "stream",
          "text": [
            "Epoch 1/50\n",
            "18/18 [==============================] - 0s 12ms/step - loss: 0.1446 - val_loss: 0.1356\n",
            "Epoch 2/50\n",
            "18/18 [==============================] - 0s 5ms/step - loss: 0.1057 - val_loss: 0.0955\n",
            "Epoch 3/50\n",
            "18/18 [==============================] - 0s 5ms/step - loss: 0.0640 - val_loss: 0.0774\n",
            "Epoch 4/50\n",
            "18/18 [==============================] - 0s 5ms/step - loss: 0.0499 - val_loss: 0.0747\n",
            "Epoch 5/50\n",
            "18/18 [==============================] - 0s 5ms/step - loss: 0.0473 - val_loss: 0.0746\n",
            "Epoch 6/50\n",
            "18/18 [==============================] - 0s 4ms/step - loss: 0.0467 - val_loss: 0.0739\n",
            "Epoch 7/50\n",
            "18/18 [==============================] - 0s 5ms/step - loss: 0.0465 - val_loss: 0.0736\n",
            "Epoch 8/50\n",
            "18/18 [==============================] - 0s 4ms/step - loss: 0.0462 - val_loss: 0.0732\n",
            "Epoch 9/50\n",
            "18/18 [==============================] - 0s 4ms/step - loss: 0.0460 - val_loss: 0.0729\n",
            "Epoch 10/50\n",
            "18/18 [==============================] - 0s 5ms/step - loss: 0.0458 - val_loss: 0.0727\n",
            "Epoch 11/50\n",
            "18/18 [==============================] - 0s 5ms/step - loss: 0.0456 - val_loss: 0.0728\n",
            "Epoch 12/50\n",
            "18/18 [==============================] - 0s 5ms/step - loss: 0.0452 - val_loss: 0.0712\n",
            "Epoch 13/50\n",
            "18/18 [==============================] - 0s 5ms/step - loss: 0.0446 - val_loss: 0.0690\n",
            "Epoch 14/50\n",
            "18/18 [==============================] - 0s 5ms/step - loss: 0.0440 - val_loss: 0.0654\n",
            "Epoch 15/50\n",
            "18/18 [==============================] - 0s 4ms/step - loss: 0.0420 - val_loss: 0.0641\n",
            "Epoch 16/50\n",
            "18/18 [==============================] - 0s 5ms/step - loss: 0.0398 - val_loss: 0.0648\n",
            "Epoch 17/50\n",
            "18/18 [==============================] - 0s 5ms/step - loss: 0.0382 - val_loss: 0.0639\n",
            "Epoch 18/50\n",
            "18/18 [==============================] - 0s 5ms/step - loss: 0.0374 - val_loss: 0.0627\n",
            "Epoch 19/50\n",
            "18/18 [==============================] - 0s 5ms/step - loss: 0.0368 - val_loss: 0.0623\n",
            "Epoch 20/50\n",
            "18/18 [==============================] - 0s 5ms/step - loss: 0.0365 - val_loss: 0.0623\n",
            "Epoch 21/50\n",
            "18/18 [==============================] - 0s 4ms/step - loss: 0.0360 - val_loss: 0.0617\n",
            "Epoch 22/50\n",
            "18/18 [==============================] - 0s 5ms/step - loss: 0.0358 - val_loss: 0.0616\n",
            "Epoch 23/50\n",
            "18/18 [==============================] - 0s 5ms/step - loss: 0.0358 - val_loss: 0.0612\n",
            "Epoch 24/50\n",
            "18/18 [==============================] - 0s 5ms/step - loss: 0.0355 - val_loss: 0.0608\n",
            "Epoch 25/50\n",
            "18/18 [==============================] - 0s 5ms/step - loss: 0.0355 - val_loss: 0.0607\n",
            "Epoch 26/50\n",
            "18/18 [==============================] - 0s 5ms/step - loss: 0.0353 - val_loss: 0.0605\n",
            "Epoch 27/50\n",
            "18/18 [==============================] - 0s 4ms/step - loss: 0.0351 - val_loss: 0.0604\n",
            "Epoch 28/50\n",
            "18/18 [==============================] - 0s 5ms/step - loss: 0.0350 - val_loss: 0.0602\n",
            "Epoch 29/50\n",
            "18/18 [==============================] - 0s 5ms/step - loss: 0.0349 - val_loss: 0.0599\n",
            "Epoch 30/50\n",
            "18/18 [==============================] - 0s 5ms/step - loss: 0.0348 - val_loss: 0.0594\n",
            "Epoch 31/50\n",
            "18/18 [==============================] - 0s 4ms/step - loss: 0.0347 - val_loss: 0.0596\n",
            "Epoch 32/50\n",
            "18/18 [==============================] - 0s 5ms/step - loss: 0.0346 - val_loss: 0.0595\n"
          ],
          "name": "stdout"
        }
      ]
    },
    {
      "cell_type": "code",
      "metadata": {
        "colab": {
          "base_uri": "https://localhost:8080/"
        },
        "id": "vI989SHs72ML",
        "outputId": "b60813d3-5bd1-4197-d019-da821c21f39f"
      },
      "source": [
        "model.summary()"
      ],
      "execution_count": 24,
      "outputs": [
        {
          "output_type": "stream",
          "text": [
            "Model: \"auto_encoder\"\n",
            "_________________________________________________________________\n",
            "Layer (type)                 Output Shape              Param #   \n",
            "=================================================================\n",
            "sequential (Sequential)      (None, 8)                 11768     \n",
            "_________________________________________________________________\n",
            "sequential_1 (Sequential)    (None, 140)               11900     \n",
            "=================================================================\n",
            "Total params: 23,668\n",
            "Trainable params: 23,668\n",
            "Non-trainable params: 0\n",
            "_________________________________________________________________\n"
          ],
          "name": "stdout"
        }
      ]
    },
    {
      "cell_type": "code",
      "metadata": {
        "id": "Z73E7i8HmafT"
      },
      "source": [
        "encoder_out = model.encoder(normal_test_data).numpy()\n",
        "decoder_out = model.decoder(encoder_out).numpy()"
      ],
      "execution_count": 23,
      "outputs": []
    },
    {
      "cell_type": "code",
      "metadata": {
        "id": "VJDcCbdfmcF8",
        "colab": {
          "base_uri": "https://localhost:8080/"
        },
        "outputId": "190638cd-f786-4f0c-bac2-8c5d5f26f530"
      },
      "source": [
        "encoder_out.shape"
      ],
      "execution_count": null,
      "outputs": [
        {
          "output_type": "execute_result",
          "data": {
            "text/plain": [
              "(723, 8)"
            ]
          },
          "metadata": {
            "tags": []
          },
          "execution_count": 29
        }
      ]
    },
    {
      "cell_type": "code",
      "metadata": {
        "id": "oeSBFeW-md7y",
        "colab": {
          "base_uri": "https://localhost:8080/"
        },
        "outputId": "718378ab-0301-40c4-d6b4-9ad2b06409fb"
      },
      "source": [
        "decoder_out.shape"
      ],
      "execution_count": null,
      "outputs": [
        {
          "output_type": "execute_result",
          "data": {
            "text/plain": [
              "(723, 140)"
            ]
          },
          "metadata": {
            "tags": []
          },
          "execution_count": 30
        }
      ]
    },
    {
      "cell_type": "code",
      "metadata": {
        "id": "I2AdZ8yvm817",
        "colab": {
          "base_uri": "https://localhost:8080/",
          "height": 500
        },
        "outputId": "f9f761f1-e2e1-4c34-b6f2-e247feeb1c7b"
      },
      "source": [
        "plt.plot(normal_test_data[0],'b')\n",
        "plt.plot(decoder_out[0],'r')\n",
        "tf.keras.losses.mae(decoder_out[0], normal_test_data[0])"
      ],
      "execution_count": null,
      "outputs": [
        {
          "output_type": "execute_result",
          "data": {
            "text/plain": [
              "<tf.Tensor: shape=(), dtype=float64, numpy=0.025575699446454454>"
            ]
          },
          "metadata": {
            "tags": []
          },
          "execution_count": 34
        },
        {
          "output_type": "display_data",
          "data": {
            "image/png": "[encoded data removed]",
            "text/plain": [
              "<Figure size 720x576 with 1 Axes>"
            ]
          },
          "metadata": {
            "tags": [],
            "needs_background": "light"
          }
        }
      ]
    },
    {
      "cell_type": "code",
      "metadata": {
        "id": "XV69vSr5nAlY"
      },
      "source": [
        "encoder_out_a = model.encoder(anomaly_test_data).numpy()\n",
        "decoder_out_a = model.decoder(encoder_out_a).numpy()"
      ],
      "execution_count": null,
      "outputs": []
    },
    {
      "cell_type": "code",
      "metadata": {
        "colab": {
          "base_uri": "https://localhost:8080/",
          "height": 500
        },
        "id": "PUiSppR-k7nG",
        "outputId": "a308e5b7-af79-4fd5-996e-1e88bbf073af"
      },
      "source": [
        "plt.plot(anomaly_test_data[0],'b')\n",
        "plt.plot(decoder_out[0],'r')\n",
        "tf.keras.losses.mae(decoder_out[0], anomaly_test_data[0])"
      ],
      "execution_count": null,
      "outputs": [
        {
          "output_type": "execute_result",
          "data": {
            "text/plain": [
              "<tf.Tensor: shape=(), dtype=float64, numpy=0.12018276421531157>"
            ]
          },
          "metadata": {
            "tags": []
          },
          "execution_count": 36
        },
        {
          "output_type": "display_data",
          "data": {
            "image/png": "[encoded data removed]",
            "text/plain": [
              "<Figure size 720x576 with 1 Axes>"
            ]
          },
          "metadata": {
            "tags": [],
            "needs_background": "light"
          }
        }
      ]
    },
    {
      "cell_type": "code",
      "metadata": {
        "id": "g5RP8qt3nByE",
        "colab": {
          "base_uri": "https://localhost:8080/",
          "height": 755
        },
        "outputId": "7cee95b9-7f59-4c44-d16f-1906580911b2"
      },
      "source": [
        "reconstructions = model.predict(normal_test_data)\n",
        "train_loss = tf.keras.losses.mae(reconstructions, normal_test_data)\n",
        "\n",
        "plt.hist(train_loss, bins=50)"
      ],
      "execution_count": null,
      "outputs": [
        {
          "output_type": "execute_result",
          "data": {
            "text/plain": [
              "(array([10., 43., 69., 70., 70., 73., 54., 60., 42., 36., 42., 32., 26.,\n",
              "        18., 14., 15., 11.,  8.,  7.,  3.,  5.,  6.,  2.,  0.,  1.,  0.,\n",
              "         0.,  1.,  0.,  0.,  0.,  0.,  2.,  0.,  1.,  0.,  1.,  0.,  0.,\n",
              "         0.,  0.,  0.,  0.,  0.,  0.,  0.,  0.,  0.,  0.,  1.]),\n",
              " array([0.01226982, 0.01499247, 0.01771512, 0.02043777, 0.02316042,\n",
              "        0.02588307, 0.02860572, 0.03132837, 0.03405101, 0.03677366,\n",
              "        0.03949631, 0.04221896, 0.04494161, 0.04766426, 0.05038691,\n",
              "        0.05310956, 0.05583221, 0.05855486, 0.06127751, 0.06400016,\n",
              "        0.06672281, 0.06944546, 0.07216811, 0.07489076, 0.07761341,\n",
              "        0.08033606, 0.08305871, 0.08578136, 0.08850401, 0.09122666,\n",
              "        0.09394931, 0.09667196, 0.09939461, 0.10211726, 0.10483991,\n",
              "        0.10756255, 0.1102852 , 0.11300785, 0.1157305 , 0.11845315,\n",
              "        0.1211758 , 0.12389845, 0.1266211 , 0.12934375, 0.1320664 ,\n",
              "        0.13478905, 0.1375117 , 0.14023435, 0.142957  , 0.14567965,\n",
              "        0.1484023 ]),\n",
              " <a list of 50 Patch objects>)"
            ]
          },
          "metadata": {
            "tags": []
          },
          "execution_count": 37
        },
        {
          "output_type": "display_data",
          "data": {
            "image/png": "[encoded data removed]",
            "text/plain": [
              "<Figure size 720x576 with 1 Axes>"
            ]
          },
          "metadata": {
            "tags": [],
            "needs_background": "light"
          }
        }
      ]
    },
    {
      "cell_type": "code",
      "metadata": {
        "id": "RcSKWiNYnC4a",
        "colab": {
          "base_uri": "https://localhost:8080/"
        },
        "outputId": "91816f5e-cecc-47e9-da96-2a7327b8cfcf"
      },
      "source": [
        "np.mean(train_loss) "
      ],
      "execution_count": null,
      "outputs": [
        {
          "output_type": "execute_result",
          "data": {
            "text/plain": [
              "0.03312315216735025"
            ]
          },
          "metadata": {
            "tags": []
          },
          "execution_count": 38
        }
      ]
    },
    {
      "cell_type": "code",
      "metadata": {
        "id": "_793O8ahnGKn",
        "colab": {
          "base_uri": "https://localhost:8080/"
        },
        "outputId": "c6fa521b-9895-4721-edde-8f112c4da1db"
      },
      "source": [
        "np.std(train_loss)"
      ],
      "execution_count": null,
      "outputs": [
        {
          "output_type": "execute_result",
          "data": {
            "text/plain": [
              "0.01452768340253421"
            ]
          },
          "metadata": {
            "tags": []
          },
          "execution_count": 39
        }
      ]
    },
    {
      "cell_type": "code",
      "metadata": {
        "id": "2QHfyzWfnHuB"
      },
      "source": [
        "threshold = np.mean(train_loss) + 2.1*np.std(train_loss)"
      ],
      "execution_count": null,
      "outputs": []
    },
    {
      "cell_type": "code",
      "metadata": {
        "id": "992ujPLZnJqR",
        "colab": {
          "base_uri": "https://localhost:8080/",
          "height": 755
        },
        "outputId": "38628ad9-a3a8-4d3f-95f9-12af1a7b04b8"
      },
      "source": [
        "reconstructions_a = model.predict(anomaly_test_data)\n",
        "train_loss_a = tf.keras.losses.mae(reconstructions_a, anomaly_test_data)\n",
        "\n",
        "plt.hist(train_loss_a, bins=50)"
      ],
      "execution_count": null,
      "outputs": [
        {
          "output_type": "execute_result",
          "data": {
            "text/plain": [
              "(array([ 1.,  0.,  1.,  1.,  1.,  1.,  2.,  5.,  6., 16., 11., 17., 22.,\n",
              "        28., 61., 66., 79., 55., 60., 35., 29., 10.,  3.,  3.,  2.,  1.,\n",
              "         0.,  3.,  0.,  2.,  1.,  1.,  1.,  1.,  0.,  0.,  0.,  0.,  0.,\n",
              "         0.,  0.,  0.,  0.,  0.,  0.,  1.,  0.,  0.,  0.,  1.]),\n",
              " array([0.04372176, 0.04698814, 0.05025453, 0.05352091, 0.0567873 ,\n",
              "        0.06005368, 0.06332007, 0.06658645, 0.06985284, 0.07311922,\n",
              "        0.07638561, 0.07965199, 0.08291838, 0.08618476, 0.08945115,\n",
              "        0.09271753, 0.09598392, 0.0992503 , 0.10251669, 0.10578307,\n",
              "        0.10904946, 0.11231584, 0.11558223, 0.11884861, 0.122115  ,\n",
              "        0.12538138, 0.12864777, 0.13191415, 0.13518054, 0.13844692,\n",
              "        0.14171331, 0.14497969, 0.14824608, 0.15151246, 0.15477885,\n",
              "        0.15804523, 0.16131162, 0.164578  , 0.16784439, 0.17111077,\n",
              "        0.17437716, 0.17764354, 0.18090993, 0.18417631, 0.1874427 ,\n",
              "        0.19070908, 0.19397547, 0.19724185, 0.20050824, 0.20377462,\n",
              "        0.20704101]),\n",
              " <a list of 50 Patch objects>)"
            ]
          },
          "metadata": {
            "tags": []
          },
          "execution_count": 41
        },
        {
          "output_type": "display_data",
          "data": {
            "image/png": "[encoded data removed]",
            "text/plain": [
              "<Figure size 720x576 with 1 Axes>"
            ]
          },
          "metadata": {
            "tags": [],
            "needs_background": "light"
          }
        }
      ]
    },
    {
      "cell_type": "code",
      "metadata": {
        "id": "pI66mppgnLDL",
        "colab": {
          "base_uri": "https://localhost:8080/",
          "height": 483
        },
        "outputId": "7ee36097-da03-4aa8-fe36-ac346c64fd7e"
      },
      "source": [
        "plt.hist(train_loss, bins=50, label='normal')\n",
        "plt.hist(train_loss_a, bins=50, label='anomaly')\n",
        "plt.axvline(threshold, color='r', linewidth=3, linestyle='dashed', label='{:0.3f}'.format(threshold))\n",
        "plt.legend(loc='upper right')\n",
        "plt.show()"
      ],
      "execution_count": null,
      "outputs": [
        {
          "output_type": "display_data",
          "data": {
            "image/png": "[encoded data removed]",
            "text/plain": [
              "<Figure size 720x576 with 1 Axes>"
            ]
          },
          "metadata": {
            "tags": [],
            "needs_background": "light"
          }
        }
      ]
    },
    {
      "cell_type": "code",
      "metadata": {
        "id": "bsNl6NT5nNR1",
        "colab": {
          "base_uri": "https://localhost:8080/"
        },
        "outputId": "cdbd2471-0fee-47b1-d0fc-200c45735998"
      },
      "source": [
        "np.mean(train_loss_a) "
      ],
      "execution_count": null,
      "outputs": [
        {
          "output_type": "execute_result",
          "data": {
            "text/plain": [
              "0.09703610100323665"
            ]
          },
          "metadata": {
            "tags": []
          },
          "execution_count": 43
        }
      ]
    },
    {
      "cell_type": "code",
      "metadata": {
        "id": "lnW1Id6hnesY",
        "colab": {
          "base_uri": "https://localhost:8080/"
        },
        "outputId": "22ca635e-19fb-496c-b393-a4e85e6ba5f0"
      },
      "source": [
        "np.std(train_loss_a) "
      ],
      "execution_count": null,
      "outputs": [
        {
          "output_type": "execute_result",
          "data": {
            "text/plain": [
              "0.01399291077112529"
            ]
          },
          "metadata": {
            "tags": []
          },
          "execution_count": 44
        }
      ]
    },
    {
      "cell_type": "code",
      "metadata": {
        "id": "JPaZwkJRnfvQ",
        "colab": {
          "base_uri": "https://localhost:8080/"
        },
        "outputId": "a73a08ea-aec1-4a18-f163-62f860e1fb37"
      },
      "source": [
        "tf.math.less(train_loss, threshold)"
      ],
      "execution_count": null,
      "outputs": [
        {
          "output_type": "execute_result",
          "data": {
            "text/plain": [
              "<tf.Tensor: shape=(723,), dtype=bool, numpy=\n",
              "array([ True,  True,  True,  True,  True,  True,  True,  True,  True,\n",
              "        True,  True,  True, False,  True,  True,  True,  True,  True,\n",
              "        True,  True, False,  True,  True,  True,  True,  True,  True,\n",
              "        True,  True,  True,  True,  True, False,  True,  True,  True,\n",
              "        True,  True,  True,  True,  True,  True,  True,  True,  True,\n",
              "        True,  True,  True,  True,  True,  True,  True,  True,  True,\n",
              "        True,  True,  True,  True,  True,  True,  True,  True,  True,\n",
              "        True,  True,  True,  True,  True,  True,  True,  True,  True,\n",
              "        True,  True,  True,  True,  True,  True,  True,  True,  True,\n",
              "        True,  True,  True,  True,  True,  True,  True,  True,  True,\n",
              "        True,  True,  True,  True,  True,  True,  True,  True,  True,\n",
              "        True,  True,  True,  True,  True,  True,  True,  True,  True,\n",
              "        True,  True,  True,  True,  True,  True,  True,  True,  True,\n",
              "        True,  True,  True,  True,  True,  True,  True,  True,  True,\n",
              "        True,  True,  True,  True,  True,  True,  True,  True,  True,\n",
              "        True,  True,  True,  True,  True,  True,  True, False,  True,\n",
              "        True,  True,  True,  True,  True,  True,  True,  True,  True,\n",
              "        True,  True,  True,  True, False,  True,  True,  True,  True,\n",
              "        True,  True,  True,  True,  True,  True,  True,  True,  True,\n",
              "        True,  True,  True,  True,  True,  True,  True,  True,  True,\n",
              "        True,  True,  True,  True,  True,  True,  True,  True,  True,\n",
              "        True,  True,  True,  True,  True,  True,  True, False,  True,\n",
              "        True,  True,  True,  True,  True,  True,  True, False,  True,\n",
              "        True,  True,  True,  True,  True,  True,  True,  True,  True,\n",
              "        True,  True,  True,  True,  True, False,  True,  True,  True,\n",
              "        True,  True,  True,  True, False,  True,  True,  True,  True,\n",
              "        True,  True,  True,  True,  True,  True,  True,  True,  True,\n",
              "        True,  True, False,  True,  True,  True,  True,  True,  True,\n",
              "        True,  True,  True,  True,  True,  True,  True,  True,  True,\n",
              "        True,  True,  True,  True,  True,  True,  True,  True,  True,\n",
              "        True,  True,  True,  True,  True,  True,  True,  True,  True,\n",
              "        True,  True,  True,  True,  True,  True,  True,  True,  True,\n",
              "        True,  True,  True,  True,  True, False,  True,  True,  True,\n",
              "       False,  True,  True,  True,  True,  True,  True,  True,  True,\n",
              "        True,  True,  True,  True,  True,  True,  True,  True,  True,\n",
              "        True,  True,  True,  True,  True,  True,  True,  True,  True,\n",
              "        True,  True, False,  True,  True,  True,  True,  True, False,\n",
              "        True,  True,  True,  True,  True,  True,  True,  True,  True,\n",
              "        True,  True,  True,  True,  True,  True,  True,  True,  True,\n",
              "        True,  True,  True,  True,  True,  True,  True,  True,  True,\n",
              "        True,  True,  True,  True,  True,  True,  True,  True,  True,\n",
              "        True,  True,  True, False,  True,  True,  True,  True,  True,\n",
              "        True,  True, False,  True,  True,  True,  True,  True,  True,\n",
              "        True,  True,  True,  True,  True,  True,  True,  True,  True,\n",
              "        True,  True,  True,  True,  True,  True,  True,  True,  True,\n",
              "        True,  True,  True,  True,  True,  True,  True,  True,  True,\n",
              "        True,  True,  True,  True,  True,  True,  True,  True,  True,\n",
              "        True,  True,  True,  True,  True,  True,  True,  True,  True,\n",
              "        True,  True,  True,  True,  True,  True,  True,  True,  True,\n",
              "        True,  True,  True,  True,  True,  True,  True,  True,  True,\n",
              "        True,  True,  True,  True,  True,  True,  True,  True,  True,\n",
              "        True,  True,  True,  True,  True,  True,  True,  True,  True,\n",
              "        True,  True,  True,  True,  True,  True,  True,  True,  True,\n",
              "        True,  True,  True,  True,  True,  True,  True,  True,  True,\n",
              "        True,  True,  True,  True,  True,  True,  True,  True,  True,\n",
              "        True,  True,  True,  True,  True,  True,  True,  True,  True,\n",
              "        True,  True,  True,  True,  True,  True,  True,  True,  True,\n",
              "        True,  True,  True,  True,  True,  True,  True,  True,  True,\n",
              "        True,  True,  True,  True,  True,  True,  True,  True,  True,\n",
              "        True,  True,  True,  True,  True,  True,  True,  True,  True,\n",
              "        True,  True,  True,  True,  True,  True,  True,  True,  True,\n",
              "        True,  True,  True,  True,  True,  True,  True,  True,  True,\n",
              "        True,  True,  True,  True,  True,  True,  True,  True,  True,\n",
              "        True,  True,  True,  True, False, False,  True,  True,  True,\n",
              "        True,  True,  True,  True,  True,  True,  True,  True,  True,\n",
              "        True,  True,  True,  True,  True,  True,  True,  True,  True,\n",
              "        True,  True,  True,  True,  True,  True,  True,  True,  True,\n",
              "        True,  True,  True,  True,  True,  True,  True,  True,  True,\n",
              "        True,  True,  True,  True,  True,  True,  True,  True,  True,\n",
              "        True,  True,  True,  True,  True,  True,  True,  True,  True,\n",
              "        True,  True,  True,  True,  True,  True,  True,  True,  True,\n",
              "       False,  True,  True,  True,  True,  True,  True,  True,  True,\n",
              "        True,  True,  True,  True,  True,  True, False,  True,  True,\n",
              "        True,  True,  True,  True,  True,  True,  True,  True,  True,\n",
              "        True,  True, False,  True,  True,  True,  True,  True,  True,\n",
              "        True,  True,  True,  True, False,  True,  True,  True,  True,\n",
              "        True,  True,  True,  True,  True,  True,  True, False,  True,\n",
              "        True,  True,  True,  True,  True,  True,  True,  True,  True,\n",
              "        True,  True,  True,  True,  True,  True,  True,  True,  True,\n",
              "        True,  True,  True,  True,  True,  True,  True,  True,  True,\n",
              "        True,  True,  True])>"
            ]
          },
          "metadata": {
            "tags": []
          },
          "execution_count": 45
        }
      ]
    },
    {
      "cell_type": "markdown",
      "metadata": {
        "id": "jPG-2En8m7az"
      },
      "source": [
        "Normal data %"
      ]
    },
    {
      "cell_type": "code",
      "metadata": {
        "id": "FWcj_CkYngxP"
      },
      "source": [
        "preds = tf.math.less(train_loss, threshold)"
      ],
      "execution_count": null,
      "outputs": []
    },
    {
      "cell_type": "code",
      "metadata": {
        "id": "q9AlDRrgniQm"
      },
      "source": [
        "n = tf.math.count_nonzero(preds)"
      ],
      "execution_count": null,
      "outputs": []
    },
    {
      "cell_type": "code",
      "metadata": {
        "id": "ZXjrCEAqnjdk",
        "colab": {
          "base_uri": "https://localhost:8080/"
        },
        "outputId": "94a28e1a-090a-44c9-b14e-bcb98cfd938e"
      },
      "source": [
        "preds.shape\n"
      ],
      "execution_count": null,
      "outputs": [
        {
          "output_type": "execute_result",
          "data": {
            "text/plain": [
              "TensorShape([723])"
            ]
          },
          "metadata": {
            "tags": []
          },
          "execution_count": 69
        }
      ]
    },
    {
      "cell_type": "code",
      "metadata": {
        "id": "pgDk0RSBmwv4"
      },
      "source": [
        "normal_percentage = n.numpy()/len(preds)"
      ],
      "execution_count": null,
      "outputs": []
    },
    {
      "cell_type": "markdown",
      "metadata": {
        "id": "QzKG-SR1m5tq"
      },
      "source": [
        "Anomaly"
      ]
    },
    {
      "cell_type": "code",
      "metadata": {
        "id": "JLXrSvQ9nk8T"
      },
      "source": [
        "preds_a = tf.math.greater(train_loss_a, threshold)"
      ],
      "execution_count": null,
      "outputs": []
    },
    {
      "cell_type": "code",
      "metadata": {
        "id": "getzS4BannnB"
      },
      "source": [
        "a = tf.math.count_nonzero(preds_a)"
      ],
      "execution_count": null,
      "outputs": []
    },
    {
      "cell_type": "code",
      "metadata": {
        "id": "fHpojZn-novy",
        "colab": {
          "base_uri": "https://localhost:8080/"
        },
        "outputId": "cc2bbdbe-6a94-40ff-fd1a-1461923c515d"
      },
      "source": [
        "preds_a.shape"
      ],
      "execution_count": null,
      "outputs": [
        {
          "output_type": "execute_result",
          "data": {
            "text/plain": [
              "TensorShape([527])"
            ]
          },
          "metadata": {
            "tags": []
          },
          "execution_count": 51
        }
      ]
    },
    {
      "cell_type": "code",
      "metadata": {
        "colab": {
          "base_uri": "https://localhost:8080/"
        },
        "id": "ELXvEWFulw4-",
        "outputId": "3deccf4c-be75-4eaf-dd22-4ee592536cd0"
      },
      "source": [
        "a= tf.math.count_nonzero(preds_a)\n"
      ],
      "execution_count": null,
      "outputs": [
        {
          "output_type": "execute_result",
          "data": {
            "text/plain": [
              "521"
            ]
          },
          "metadata": {
            "tags": []
          },
          "execution_count": 61
        }
      ]
    },
    {
      "cell_type": "code",
      "metadata": {
        "id": "J4UM5XfPnqOZ"
      },
      "source": [
        "anomaly_percentage = a.numpy()/len(preds_a)"
      ],
      "execution_count": null,
      "outputs": []
    },
    {
      "cell_type": "code",
      "metadata": {
        "colab": {
          "base_uri": "https://localhost:8080/"
        },
        "id": "XvKP9b4Hmlit",
        "outputId": "27474fbc-c13e-4a7d-a06c-6db9f2d0d37b"
      },
      "source": [
        "anomaly_percentage"
      ],
      "execution_count": null,
      "outputs": [
        {
          "output_type": "execute_result",
          "data": {
            "text/plain": [
              "0.9886148007590133"
            ]
          },
          "metadata": {
            "tags": []
          },
          "execution_count": 73
        }
      ]
    },
    {
      "cell_type": "markdown",
      "metadata": {
        "id": "nq5vM0LVm-pR"
      },
      "source": [
        "Results "
      ]
    },
    {
      "cell_type": "code",
      "metadata": {
        "colab": {
          "base_uri": "https://localhost:8080/"
        },
        "id": "KY7PcYfhmncg",
        "outputId": "63def47f-46b6-41d0-ac42-42261c28effc"
      },
      "source": [
        "print(f\"Anomaly data accuracy: {anomaly_percentage}\")\n",
        "print(f\"Normal data accuracy: {normal_percentage}\")\n"
      ],
      "execution_count": null,
      "outputs": [
        {
          "output_type": "stream",
          "text": [
            "Anomaly data accuracy: 0.9886148007590133\n",
            "Normal data accuracy: 0.9681881051175657\n"
          ],
          "name": "stdout"
        }
      ]
    },
    {
      "cell_type": "code",
      "metadata": {
        "id": "D0dVp15_nUsC"
      },
      "source": [
        ""
      ],
      "execution_count": null,
      "outputs": []
    }
  ]
}